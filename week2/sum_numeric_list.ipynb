{
 "cells": [
  {
   "cell_type": "code",
   "execution_count": 72,
   "metadata": {},
   "outputs": [
    {
     "name": "stdout",
     "output_type": "stream",
     "text": [
      "リスト1の合計: 15\n",
      "エラーが発生しました: unsupported operand type(s) for +=: 'int' and 'str'\n",
      "エラーが発生しました: unsupported operand type(s) for +=: 'int' and 'str'\n",
      "リスト2の合計: 9\n",
      "リスト3の合計: 9\n"
     ]
    }
   ],
   "source": [
    "def sum_numeric_list(data):\n",
    "    total = 0\n",
    "    # ここに処理を記述\n",
    "    for item in data:\n",
    "        try:\n",
    "            if(isinstance(item, bool)) == 0:\n",
    "                total += item\n",
    "        \n",
    "        except TypeError as e:\n",
    "            print(f\"エラーが発生しました: {e}\")\n",
    "    return total\n",
    "\n",
    "test_list1 = [1, 2, 3, 4, 5]\n",
    "test_list2 = [1, \"hello\", 3, \"world\", 5]\n",
    "test_list3 = [1, True, 3, False, 5]\n",
    "\n",
    "print(f\"リスト1の合計: {sum_numeric_list(test_list1)}\")\n",
    "print(f\"リスト2の合計: {sum_numeric_list(test_list2)}\")\n",
    "print(f\"リスト3の合計: {sum_numeric_list(test_list3)}\")"
   ]
  },
  {
   "cell_type": "code",
   "execution_count": null,
   "metadata": {},
   "outputs": [
    {
     "name": "stdout",
     "output_type": "stream",
     "text": [
      "加算に成功しました\n",
      "total = 1\n",
      "エラーが発生しました: unsupported operand type(s) for +: 'int' and 'str'\n",
      "加算に成功しました\n",
      "total = 4\n",
      "エラーが発生しました: unsupported operand type(s) for +: 'int' and 'str'\n",
      "加算に成功しました\n",
      "total = 9\n",
      "リスト2の合計: 9\n"
     ]
    }
   ],
   "source": [
    "# def sum_numeric_list(data):\n",
    "#     total = 0\n",
    "#     # ここに処理を記述\n",
    "#     for item in data:\n",
    "#         try:\n",
    "#             isinstance(item, (int, float)) == 0\n",
    "#             total = total + item #tryの中でエラー出す必要がある！！！\n",
    "            \n",
    "#         except TypeError as e: #tryの中で発生したTypeErrorを捕捉する\n",
    "#             print(f\"エラーが発生しました: {e}\")\n",
    "            \n",
    "#         # else:\n",
    "#         #     total = total + item\n",
    "#         else:\n",
    "#             print(\"加算に成功しました\")\n",
    "#             print(f\"total = {total}\")\n",
    "#     return total\n",
    "\n",
    "# test_list1 = [1, 2, 3, 4, 5]\n",
    "# test_list2 = [1, \"hello\", 3, \"world\", 5]\n",
    "# # print(f\"リスト1の合計: {sum_numeric_list(test_list1)}\")\n",
    "# print(f\"リスト2の合計: {sum_numeric_list(test_list2)}\")"
   ]
  },
  {
   "cell_type": "code",
   "execution_count": null,
   "metadata": {},
   "outputs": [
    {
     "name": "stdout",
     "output_type": "stream",
     "text": [
      "リスト1の合計: 15\n",
      "エラーが発生しました: unsupported operand type(s) for +=: 'int' and 'str'\n",
      "エラーが発生しました: unsupported operand type(s) for +=: 'int' and 'str'\n",
      "リスト2の合計: 9\n",
      "リスト2の合計: 10\n"
     ]
    }
   ],
   "source": [
    "# boolはたされちゃわない？\n",
    "# def sum_numeric_list(data):\n",
    "#     total = 0\n",
    "#     # ここに処理を記述\n",
    "#     for item in data:\n",
    "#         try:\n",
    "#             total += item\n",
    "        \n",
    "#         except TypeError as e:\n",
    "#             print(f\"エラーが発生しました: {e}\")\n",
    "#     return total\n",
    "\n",
    "# test_list1 = [1, 2, 3, 4, 5]\n",
    "# test_list2 = [1, \"hello\", 3, \"world\", 5]\n",
    "# test_list3 = [1, True, 3, False, 5]\n",
    "\n",
    "# print(f\"リスト1の合計: {sum_numeric_list(test_list1)}\")\n",
    "# print(f\"リスト2の合計: {sum_numeric_list(test_list2)}\")\n",
    "# print(f\"リスト2の合計: {sum_numeric_list(test_list3)}\")\n",
    "\n",
    "# a = 1 + True\n",
    "# print(a)"
   ]
  },
  {
   "cell_type": "code",
   "execution_count": null,
   "metadata": {},
   "outputs": [
    {
     "name": "stdout",
     "output_type": "stream",
     "text": [
      "<class 'int'>\n",
      "<class 'type'>\n",
      "True\n"
     ]
    }
   ],
   "source": [
    "# item = 10\n",
    "# print(type(item))\n",
    "# print(type(type(item)))\n",
    "# # bool(type(item) in ['int', 'float'])\n",
    "# # bool(type(item) in [int, float])\n",
    "# print(type(item) in [int, float])"
   ]
  },
  {
   "cell_type": "code",
   "execution_count": null,
   "metadata": {},
   "outputs": [],
   "source": []
  }
 ],
 "metadata": {
  "kernelspec": {
   "display_name": "Python 3",
   "language": "python",
   "name": "python3"
  },
  "language_info": {
   "codemirror_mode": {
    "name": "ipython",
    "version": 3
   },
   "file_extension": ".py",
   "mimetype": "text/x-python",
   "name": "python",
   "nbconvert_exporter": "python",
   "pygments_lexer": "ipython3",
   "version": "3.7.17"
  }
 },
 "nbformat": 4,
 "nbformat_minor": 2
}
