{
 "cells": [
  {
   "cell_type": "code",
   "execution_count": 5,
   "metadata": {},
   "outputs": [
    {
     "name": "stdout",
     "output_type": "stream",
     "text": [
      "ポチがワン！と吠えます。\n",
      "シロがワン！と吠えます。\n",
      "ポチの好物はシロです。\n",
      "シロの好物はmeです。\n"
     ]
    }
   ],
   "source": [
    "# Dogクラスの定義(favorite属性とlikeメソッドを追加してください)\n",
    "class Dog:\n",
    "    def __init__(self, name, age, favorite):\n",
    "        self.name = name\n",
    "        self.age = age\n",
    "        self.favorite = favorite\n",
    "\n",
    "    def bark(self):\n",
    "        print(f\"{self.name}がワン！と吠えます。\")\n",
    "        \n",
    "    def like(self):\n",
    "        print(f\"{self.name}の好物は{self.favorite}です。\")\n",
    "\n",
    "# Dogクラスのインスタンスを作成 (適切な初期化を行ってください)\n",
    "pochi =Dog(\"ポチ\", 5, \"シロ\")\n",
    "shiro =Dog(\"シロ\", 10, \"me\")\n",
    "\n",
    "# インスタンスのメソッドを呼び出す\n",
    "pochi.bark()  # 出力: ポチがワン！と吠えます。\n",
    "shiro.bark()  # 出力: シロがワン！と吠えます。\n",
    "\n",
    "# 以下で実装したlikeメソッドを呼び出してください\n",
    "pochi.like()\n",
    "shiro.like()"
   ]
  }
 ],
 "metadata": {
  "kernelspec": {
   "display_name": "Python 3",
   "language": "python",
   "name": "python3"
  }
 },
 "nbformat": 4,
 "nbformat_minor": 2
}
