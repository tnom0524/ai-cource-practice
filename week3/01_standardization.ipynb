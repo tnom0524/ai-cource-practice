{
 "cells": [
  {
   "cell_type": "markdown",
   "metadata": {},
   "source": [
    "次の2次元NumPy配列`data_2d`が与えられています。各列ごとに標準化を行ってください。標準化とは、各要素から平均値を引き、その結果を標準偏差で割る処理のことです。ただしscikit-learn、SciPyは用いないでください"
   ]
  },
  {
   "cell_type": "code",
   "execution_count": 25,
   "metadata": {},
   "outputs": [
    {
     "name": "stdout",
     "output_type": "stream",
     "text": [
      "元の2次元データ:\n",
      " [[ 1 10]\n",
      " [ 2 20]\n",
      " [ 3 30]]\n",
      "標準化された2次元データ（列ごと）:\n",
      " [[-1.22474487 -1.22474487]\n",
      " [ 0.          0.        ]\n",
      " [ 1.22474487  1.22474487]]\n"
     ]
    }
   ],
   "source": [
    "import numpy as np\n",
    "\n",
    "data_2d = np.array([[1, 10],\n",
    "                    [2, 20],\n",
    "                    [3, 30]])\n",
    "\n",
    "### ここに各列ごとに標準化する処理を記述してください ###\n",
    "standardized_data_2d = (data_2d - np.average(data_2d, axis=0))/np.std(data_2d, axis = 0)\n",
    "\n",
    "print(\"元の2次元データ:\\n\", data_2d)\n",
    "print(\"標準化された2次元データ（列ごと）:\\n\", standardized_data_2d)"
   ]
  },
  {
   "cell_type": "code",
   "execution_count": null,
   "metadata": {},
   "outputs": [
    {
     "name": "stdout",
     "output_type": "stream",
     "text": [
      "[ 2. 20.]\n",
      "[0.81649658 8.16496581]\n",
      "[[-1.22474487 -1.22474487]\n",
      " [ 0.          0.        ]\n",
      " [ 1.22474487  1.22474487]]\n"
     ]
    }
   ],
   "source": [
    "import numpy as np\n",
    "data_2d = np.array([[1, 10],\n",
    "                    [2, 20],\n",
    "                    [3, 30]])\n",
    "# print(data_2d)\n",
    "\n",
    "# 各列の平均値を求める\n",
    "data_2d_ave = np.average(data_2d, axis=0)\n",
    "# print(data_2d_ave)\n",
    "\n",
    "# 各列の標準偏差を求める\n",
    "data_2d_std = np.std(data_2d, axis = 0)\n",
    "# print(data_2d_std)\n",
    "\n",
    "# 各列を標準\n",
    "data_2d_norm = (data_2d - data_2d_ave)/data_2d_std# ここブロードキャスト！\n",
    "\n",
    "print(data_2d_norm)"
   ]
  },
  {
   "cell_type": "code",
   "execution_count": null,
   "metadata": {},
   "outputs": [],
   "source": []
  }
 ],
 "metadata": {
  "kernelspec": {
   "display_name": "Python 3 (ipykernel)",
   "language": "python",
   "name": "python3"
  },
  "language_info": {
   "codemirror_mode": {
    "name": "ipython",
    "version": 3
   },
   "file_extension": ".py",
   "mimetype": "text/x-python",
   "name": "python",
   "nbconvert_exporter": "python",
   "pygments_lexer": "ipython3",
   "version": "3.7.17"
  }
 },
 "nbformat": 4,
 "nbformat_minor": 2
}
