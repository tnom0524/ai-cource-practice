{
 "cells": [
  {
   "cell_type": "markdown",
   "id": "2235cb6e",
   "metadata": {
    "id": "2235cb6e"
   },
   "source": [
    "# 2 AI講座 第2回"
   ]
  },
  {
   "cell_type": "markdown",
   "id": "0c2a2206",
   "metadata": {
    "id": "0c2a2206"
   },
   "source": [
    "## 2.2 Pythonの基礎2\n",
    "\n",
    "**このセクションのゴール：**  \n",
    "**Pythonの基本的な文法を理解すること。**  \n",
    "**このセクションを終えたら、Pythonの基本的な文法は一通り学習し終えたことになります。**"
   ]
  },
  {
   "cell_type": "markdown",
   "id": "d87eb314",
   "metadata": {
    "id": "d87eb314"
   },
   "source": [
    "### 2.2.1 クラス"
   ]
  },
  {
   "cell_type": "markdown",
   "id": "d292dc6e",
   "metadata": {
    "id": "d292dc6e"
   },
   "source": [
    "第1回講義で、文字列型(str)・整数型(int)・小数型(float)・list型・dict型といった様々なデータ型について扱いましたが、これらの`型`は全てこれから紹介するクラスを用いて作られています。  \n",
    "以下のように、type()関数で変数を囲ってあげるとその型が分かるのですが、その時左に`class`と書かれています。"
   ]
  },
  {
   "cell_type": "code",
   "execution_count": 8,
   "id": "d8461dfe",
   "metadata": {
    "executionInfo": {
     "elapsed": 90,
     "status": "ok",
     "timestamp": 1746007546962,
     "user": {
      "displayName": "灯リーダーズ",
      "userId": "07289622665267954108"
     },
     "user_tz": -540
    },
    "id": "d8461dfe"
   },
   "outputs": [],
   "source": [
    "#str型\n",
    "moji = \"あいうえお\"\n",
    "#int型\n",
    "three = 3\n",
    "#float型\n",
    "three_point_five = 3.5\n",
    "#list型\n",
    "moji_list = [\"あ\", \"い\", \"う\", \"え\", \"お\"]"
   ]
  },
  {
   "cell_type": "code",
   "execution_count": 9,
   "id": "fda5a413",
   "metadata": {
    "colab": {
     "base_uri": "https://localhost:8080/"
    },
    "executionInfo": {
     "elapsed": 39,
     "status": "ok",
     "timestamp": 1746007549597,
     "user": {
      "displayName": "灯リーダーズ",
      "userId": "07289622665267954108"
     },
     "user_tz": -540
    },
    "id": "fda5a413",
    "outputId": "6a1c3f78-99fb-4102-84d6-821df6879822"
   },
   "outputs": [
    {
     "name": "stdout",
     "output_type": "stream",
     "text": [
      "<class 'str'>\n",
      "<class 'int'>\n",
      "<class 'float'>\n",
      "<class 'list'>\n"
     ]
    }
   ],
   "source": [
    "print(type(moji)) # <class 'str'>\n",
    "print(type(three)) # <class 'int'>\n",
    "print(type(three_point_five)) # <class 'float'>\n",
    "print(type(moji_list)) # <class 'list'>"
   ]
  },
  {
   "cell_type": "markdown",
   "id": "5462c40b",
   "metadata": {
    "id": "5462c40b"
   },
   "source": [
    "#### クラスとは\n",
    "クラスは、**設計図**のようなものです。  \n",
    "例えば、「犬」という概念を考えたとき、すべての犬には共通する特徴（名前、年齢、吠えることができるなど）があります。  \n",
    "クラスを使うと、このような共通の特徴をまとめて定義できます。"
   ]
  },
  {
   "cell_type": "markdown",
   "id": "820c0e9c",
   "metadata": {
    "id": "820c0e9c"
   },
   "source": [
    "#### なぜクラスを使うのか？\n",
    "\n",
    "- **整理整頓**: 関連するデータ（属性）と処理（メソッド）を一つにまとめることで、コードが整理され、理解しやすくなります。\n",
    "- **再利用性**: 一度定義したクラスは、何度も再利用できます。\n",
    "- **拡張性**: クラスを元に新しいクラスを簡単に作ることができます（継承）。"
   ]
  },
  {
   "cell_type": "markdown",
   "id": "f59cf77a",
   "metadata": {
    "id": "f59cf77a"
   },
   "source": [
    "#### クラスの基本的な書き方\n",
    "\n",
    "```python\n",
    "class クラスの名前:\n",
    "    # クラスの中身（属性やメソッド）を記述\n",
    "    def __init__(self, 引数1, 引数2, ...):\n",
    "        # 初期化処理（インスタンスが作られるときに実行される）\n",
    "        self.属性の名前1 = 引数1\n",
    "        self.属性の名前2 = 引数2\n",
    "        # ...\n",
    "\n",
    "    def メソッドの名前(self, 引数1, 引数2, ...):\n",
    "        # メソッドの中身（処理）を記述\n",
    "        # selfを使ってインスタンスの属性にアクセスできる\n",
    "        pass\n",
    "```\n",
    "\n",
    "- `class クラスの名前:`: `class` キーワードでクラスを定義します。クラスの名前は通常、先頭を大文字にするのが慣習です。\n",
    "- `__init__(self, ...)`: これは**コンストラクタ**と呼ばれる特別なメソッドです。クラスから**インスタンス**（実体）が作られるときに、自動的に実行されます。\n",
    "    - `self`: 作成されるインスタンス自身を指します。\n",
    "    - `引数`: インスタンスを作成する際に渡す値を受け取ります。\n",
    "    - `self.属性の名前 = 値`: インスタンスが持つ**属性（データ）**を定義し、値を設定します。これらの属性は**インスタンス変数**と呼ばれます。\n",
    "- `def メソッドの名前(self, ...):`: クラスの中で定義する関数を**メソッド**と呼びます。\n",
    "    - `self`: メソッドが呼び出されたインスタンス自身を指します。メソッド内で `self.属性の名前` のようにして、インスタンスの属性にアクセスできます。"
   ]
  },
  {
   "cell_type": "markdown",
   "id": "15c35ba6",
   "metadata": {
    "id": "15c35ba6"
   },
   "source": [
    "#### インスタンスの作成\n",
    "\n",
    "クラスは設計図なので、そのままでは使うことができません。設計図を元に実際に物を作るように、クラスから**インスタンス**を作成する必要があります。\n",
    "\n",
    "```python\n",
    "# クラス名() でインスタンスを作成\n",
    "インスタンスの名前 = クラスの名前(初期化に必要な引数)\n",
    "```"
   ]
  },
  {
   "cell_type": "code",
   "execution_count": 10,
   "id": "d956f3e2",
   "metadata": {
    "colab": {
     "base_uri": "https://localhost:8080/"
    },
    "executionInfo": {
     "elapsed": 62,
     "status": "ok",
     "timestamp": 1746008000386,
     "user": {
      "displayName": "灯リーダーズ",
      "userId": "07289622665267954108"
     },
     "user_tz": -540
    },
    "id": "d956f3e2",
    "outputId": "abc39240-8f73-4df5-ff9b-866b59b169f8"
   },
   "outputs": [
    {
     "name": "stdout",
     "output_type": "stream",
     "text": [
      "ポチの名前: ポチ\n",
      "シロの年齢: 5\n",
      "ポチがワン！と吠えます。\n",
      "シロがワン！と吠えます。\n",
      "ポチがボールで遊んでいます。\n",
      "シロがフリスビーで遊んでいます。\n"
     ]
    }
   ],
   "source": [
    "class Dog:\n",
    "    def __init__(self, name, age):\n",
    "        self.name = name\n",
    "        self.age = age\n",
    "\n",
    "    def bark(self):\n",
    "        print(f\"{self.name}がワン！と吠えます。\")\n",
    "\n",
    "    def play(self, toy):\n",
    "        print(f\"{self.name}が{toy}で遊んでいます。\")\n",
    "\n",
    "# Dogクラスのインスタンスを作成\n",
    "pochi = Dog(\"ポチ\", 3)\n",
    "shiro = Dog(\"シロ\", 5)\n",
    "\n",
    "# インスタンスの属性にアクセス\n",
    "print(f\"ポチの名前: {pochi.name}\")  # 出力: ポチ\n",
    "print(f\"シロの年齢: {shiro.age}\")  # 出力: 5\n",
    "\n",
    "# インスタンスのメソッドを呼び出す\n",
    "pochi.bark()  # 出力: ポチがワン！と吠えます。\n",
    "shiro.bark()  # 出力: シロがワン！と吠えます。\n",
    "\n",
    "pochi.play(\"ボール\")  # 出力: ポチがボールで遊んでいます。\n",
    "shiro.play(\"フリスビー\")  # 出力: シロがフリスビーで遊んでいます。"
   ]
  },
  {
   "cell_type": "markdown",
   "id": "e23340eb",
   "metadata": {
    "id": "e23340eb"
   },
   "source": [
    "#### f-stringとは\n",
    "上のコードで、`f\"ポチの名前: {pochi.name}\"`という記法を使いました。  \n",
    "この記法はf-string(フォーマット済み文字列リテラル)と言い、文字列の中に変数の値や式の結果を埋め込むための簡潔な記法です。  \n",
    "\n",
    "#### 基本的な使い方\n",
    "文字列の先頭に`f`または`F`をつけ、埋め込みたい変数や式を`{}`で囲むことで記述します。"
   ]
  },
  {
   "cell_type": "code",
   "execution_count": 11,
   "id": "be87009c",
   "metadata": {
    "colab": {
     "base_uri": "https://localhost:8080/"
    },
    "executionInfo": {
     "elapsed": 72,
     "status": "ok",
     "timestamp": 1746008116459,
     "user": {
      "displayName": "灯リーダーズ",
      "userId": "07289622665267954108"
     },
     "user_tz": -540
    },
    "id": "be87009c",
    "outputId": "c53ee6a9-d9c7-4dfd-f9b9-57ae04bfa824"
   },
   "outputs": [
    {
     "name": "stdout",
     "output_type": "stream",
     "text": [
      "3 + 5 = 8\n",
      "3 - 5 = -2\n",
      "x + y = 8\n",
      "xの二乗は9\n",
      "3の平方根は1.7320508075688772\n"
     ]
    }
   ],
   "source": [
    "# f-stringの例\n",
    "print(f\"3 + 5 = {3 + 5}\") # 3 + 5 = 8\n",
    "print(f\"3 - 5 = {3 - 5}\") # 3 - 5 = -2\n",
    "x = 3\n",
    "y = 5\n",
    "print(f\"x + y = {x + y}\") # x + y = 8\n",
    "print(f\"xの二乗は{x ** 2}\") # xの二乗は9\n",
    "print(f\"3の平方根は{3 ** 0.5}\") # 3の平方根は1.7320508075688772"
   ]
  },
  {
   "cell_type": "markdown",
   "id": "fad20280",
   "metadata": {
    "id": "fad20280"
   },
   "source": [
    "#### クラスの継承\n",
    "継承は、既存のクラス（**親クラス**または**スーパークラス**と呼ばれます）の機能（属性やメソッド）を、新しいクラス（**子クラス**または**サブクラス**と呼ばれます）が受け継ぐ仕組みです。\n",
    "\n",
    "例えるなら、親犬が持っている「吠えることができる」「走ることができる」といった特徴を、子犬も自然と受け継ぐようなイメージです。\n",
    "\n",
    "#### なぜ継承を使うのか？\n",
    "\n",
    "- **コードの再利用**: 親クラスで定義したコードを、子クラスでそのまま利用できるため、同じようなコードを何度も書く手間が省けます。\n",
    "- **コードの拡張**: 子クラスでは、親クラスから受け継いだ機能に加えて、新しい機能を追加したり、既存の機能を変更したりできます。\n",
    "- **コードの整理**: 共通の機能を親クラスにまとめることで、コードがより整理され、理解しやすくなります。\n",
    "\n",
    "#### 継承の基本的な書き方\n",
    "\n",
    "```python\n",
    "class 親クラスの名前:\n",
    "    def __init__(self, 属性1, 属性2):\n",
    "        self.属性1 = 属性1\n",
    "        self.属性2 = 属性2\n",
    "\n",
    "    def 親クラスのメソッド(self):\n",
    "        print(\"親クラスのメソッドが呼ばれました。\")\n",
    "\n",
    "class 子クラスの名前(親クラスの名前):\n",
    "    def __init__(self, 属性1, 属性2, 子クラスの属性):\n",
    "        # 親クラスの初期化メソッドを呼び出す\n",
    "        super().__init__(属性1, 属性2)\n",
    "        self.子クラスの属性 = 子クラスの属性\n",
    "\n",
    "    def 子クラス独自のメソッド(self):\n",
    "        print(\"子クラス独自のメソッドが呼ばれました。\")\n",
    "\n",
    "    # 親クラスのメソッドを上書き（オーバーライド）することもできる\n",
    "    def 親クラスのメソッド(self):\n",
    "        print(\"子クラスで上書きされた親クラスのメソッドが呼ばれました。\")\n",
    "```\n",
    "\n",
    "- `class 子クラスの名前(親クラスの名前):`: クラス定義の際に、括弧の中に親クラスの名前を書くことで、継承を指定します。\n",
    "- `super().__init__(属性1, 属性2)`: 子クラスの `__init__` メソッド内で `super().__init__()` を呼び出すと、親クラスの `__init__` メソッドが実行されます。これにより、親クラスで定義された属性の初期化を子クラスで行うことができます。\n",
    "- 子クラスでは、親クラスから受け継いだ属性やメソッドをそのまま利用できます。\n",
    "- 子クラスで親クラスと同じ名前のメソッドを定義すると、親クラスのメソッドは**上書き（オーバーライド）**されます。"
   ]
  },
  {
   "cell_type": "code",
   "execution_count": 12,
   "id": "046fa78f",
   "metadata": {
    "colab": {
     "base_uri": "https://localhost:8080/"
    },
    "executionInfo": {
     "elapsed": 45,
     "status": "ok",
     "timestamp": 1746008669672,
     "user": {
      "displayName": "灯リーダーズ",
      "userId": "07289622665267954108"
     },
     "user_tz": -540
    },
    "id": "046fa78f",
    "outputId": "af490f85-4ab0-4f67-b0f4-85076f6f7c3f"
   },
   "outputs": [
    {
     "name": "stdout",
     "output_type": "stream",
     "text": [
      "動物が鳴きます。\n",
      "ワン！\n",
      "私の名前はポチです。犬種は柴犬です。\n",
      "ポチ\n",
      "動物が鳴きます。\n",
      "タマ\n"
     ]
    }
   ],
   "source": [
    "class Animal:\n",
    "    def __init__(self, name):\n",
    "        self.name = name\n",
    "\n",
    "    def bark(self):\n",
    "        print(\"動物が鳴きます。\")\n",
    "\n",
    "class Dog(Animal):\n",
    "    def __init__(self, name, breed):\n",
    "        super().__init__(name)\n",
    "        self.breed = breed\n",
    "\n",
    "    def bark(self):\n",
    "        print(\"ワン！\")\n",
    "\n",
    "    def introduce(self):\n",
    "        print(f\"私の名前は{self.name}です。犬種は{self.breed}です。\")\n",
    "\n",
    "class Cat(Animal):\n",
    "    def __init__(self, name):\n",
    "        super().__init__(name)\n",
    "\n",
    "# Animalクラスのインスタンス\n",
    "generic_animal = Animal(\"生き物\")\n",
    "generic_animal.bark()  # 出力: 動物が鳴きます。\n",
    "\n",
    "# Dogクラスのインスタンス\n",
    "pochi = Dog(\"ポチ\", \"柴犬\")\n",
    "pochi.bark()      # 出力: ワン！ (Animalクラスのbarkメソッドを上書き)\n",
    "pochi.introduce()  # 出力: 私の名前はポチです。犬種は柴犬です。 (Dogクラス独自のメソッド)\n",
    "print(pochi.name)  # 出力: ポチ (Animalクラスから継承した属性)\n",
    "\n",
    "# Catクラスのインスタンス\n",
    "tama = Cat(\"タマ\")\n",
    "tama.bark()  # 出力: 動物が鳴きます。 (Animalクラスのbarkメソッドを使用)\n",
    "print(tama.name)  # 出力: タマ (Animalクラスから継承した属性)"
   ]
  },
  {
   "cell_type": "markdown",
   "id": "d645b5ff",
   "metadata": {
    "id": "d645b5ff"
   },
   "source": [
    "この例では、`Animal` クラスが親クラスで、`Dog` クラスと `Cat` クラスが `Animal` クラスを継承した子クラスです。\n",
    "\n",
    "- `Dog` クラスは、親クラス `Animal` の `__init__` メソッドを `super()` で呼び出し、`name` 属性を初期化しています。さらに、`Dog` クラス独自の属性 `breed` を追加しています。\n",
    "- `Dog` クラスは、親クラスの `bark()` メソッドを上書きして、犬の鳴き声「ワン！」を出力するように変更しています。また、`introduce()` という独自のメソッドを追加しています。\n",
    "- `Cat` クラスは、親クラスの `bark()` メソッドを上書きしていないので、そのままの出力になっています。"
   ]
  },
  {
   "cell_type": "markdown",
   "id": "fd1c838e",
   "metadata": {
    "id": "fd1c838e"
   },
   "source": [
    "#### まとめ\n",
    "\n",
    "- **クラス**は、オブジェクトの設計図。\n",
    "- **インスタンス**は、クラスを元に実際に作られたオブジェクト（実体）。\n",
    "- `__init__` は、インスタンス作成時に実行される特別なメソッド（コンストラクタ）。\n",
    "- `self` は、インスタンス自身を指す。\n",
    "- **属性**は、各インスタンスが持つデータ。\n",
    "- **メソッド**は、クラスの中で定義された関数で、インスタンスの振る舞いを定義する。\n",
    "- **継承**を使うと、既存のクラスの機能を新しいクラスで再利用できる。\n",
    "- **親クラス（スーパークラス）**の属性やメソッドを、**子クラス（サブクラス）**が受け継ぐ。\n",
    "- 子クラスでは、親クラスから受け継いだ機能をそのまま使ったり、新しく機能を追加したり、既存の機能を**上書き（オーバーライド）**したりできる。\n",
    "- `super()` を使うと、子クラスから親クラスのメソッドを呼び出すことができる。"
   ]
  },
  {
   "cell_type": "markdown",
   "id": "ee6eb60c",
   "metadata": {
    "id": "ee6eb60c"
   },
   "source": [
    "また、help()関数を使うと、その変数がどんなクラスのインスタンスであるか確認することが出来ます。"
   ]
  },
  {
   "cell_type": "code",
   "execution_count": 13,
   "id": "44c15ed6",
   "metadata": {
    "colab": {
     "base_uri": "https://localhost:8080/"
    },
    "executionInfo": {
     "elapsed": 61,
     "status": "ok",
     "timestamp": 1746008789933,
     "user": {
      "displayName": "灯リーダーズ",
      "userId": "07289622665267954108"
     },
     "user_tz": -540
    },
    "id": "44c15ed6",
    "outputId": "dba6bfa8-560a-4e84-a0b4-82cfa48ee52e"
   },
   "outputs": [
    {
     "name": "stdout",
     "output_type": "stream",
     "text": [
      "Help on list object:\n",
      "\n",
      "class list(object)\n",
      " |  list(iterable=(), /)\n",
      " |  \n",
      " |  Built-in mutable sequence.\n",
      " |  \n",
      " |  If no argument is given, the constructor creates a new empty list.\n",
      " |  The argument must be an iterable if specified.\n",
      " |  \n",
      " |  Methods defined here:\n",
      " |  \n",
      " |  __add__(self, value, /)\n",
      " |      Return self+value.\n",
      " |  \n",
      " |  __contains__(self, key, /)\n",
      " |      Return key in self.\n",
      " |  \n",
      " |  __delitem__(self, key, /)\n",
      " |      Delete self[key].\n",
      " |  \n",
      " |  __eq__(self, value, /)\n",
      " |      Return self==value.\n",
      " |  \n",
      " |  __ge__(self, value, /)\n",
      " |      Return self>=value.\n",
      " |  \n",
      " |  __getattribute__(self, name, /)\n",
      " |      Return getattr(self, name).\n",
      " |  \n",
      " |  __getitem__(...)\n",
      " |      x.__getitem__(y) <==> x[y]\n",
      " |  \n",
      " |  __gt__(self, value, /)\n",
      " |      Return self>value.\n",
      " |  \n",
      " |  __iadd__(self, value, /)\n",
      " |      Implement self+=value.\n",
      " |  \n",
      " |  __imul__(self, value, /)\n",
      " |      Implement self*=value.\n",
      " |  \n",
      " |  __init__(self, /, *args, **kwargs)\n",
      " |      Initialize self.  See help(type(self)) for accurate signature.\n",
      " |  \n",
      " |  __iter__(self, /)\n",
      " |      Implement iter(self).\n",
      " |  \n",
      " |  __le__(self, value, /)\n",
      " |      Return self<=value.\n",
      " |  \n",
      " |  __len__(self, /)\n",
      " |      Return len(self).\n",
      " |  \n",
      " |  __lt__(self, value, /)\n",
      " |      Return self<value.\n",
      " |  \n",
      " |  __mul__(self, value, /)\n",
      " |      Return self*value.\n",
      " |  \n",
      " |  __ne__(self, value, /)\n",
      " |      Return self!=value.\n",
      " |  \n",
      " |  __repr__(self, /)\n",
      " |      Return repr(self).\n",
      " |  \n",
      " |  __reversed__(self, /)\n",
      " |      Return a reverse iterator over the list.\n",
      " |  \n",
      " |  __rmul__(self, value, /)\n",
      " |      Return value*self.\n",
      " |  \n",
      " |  __setitem__(self, key, value, /)\n",
      " |      Set self[key] to value.\n",
      " |  \n",
      " |  __sizeof__(self, /)\n",
      " |      Return the size of the list in memory, in bytes.\n",
      " |  \n",
      " |  append(self, object, /)\n",
      " |      Append object to the end of the list.\n",
      " |  \n",
      " |  clear(self, /)\n",
      " |      Remove all items from list.\n",
      " |  \n",
      " |  copy(self, /)\n",
      " |      Return a shallow copy of the list.\n",
      " |  \n",
      " |  count(self, value, /)\n",
      " |      Return number of occurrences of value.\n",
      " |  \n",
      " |  extend(self, iterable, /)\n",
      " |      Extend list by appending elements from the iterable.\n",
      " |  \n",
      " |  index(self, value, start=0, stop=9223372036854775807, /)\n",
      " |      Return first index of value.\n",
      " |      \n",
      " |      Raises ValueError if the value is not present.\n",
      " |  \n",
      " |  insert(self, index, object, /)\n",
      " |      Insert object before index.\n",
      " |  \n",
      " |  pop(self, index=-1, /)\n",
      " |      Remove and return item at index (default last).\n",
      " |      \n",
      " |      Raises IndexError if list is empty or index is out of range.\n",
      " |  \n",
      " |  remove(self, value, /)\n",
      " |      Remove first occurrence of value.\n",
      " |      \n",
      " |      Raises ValueError if the value is not present.\n",
      " |  \n",
      " |  reverse(self, /)\n",
      " |      Reverse *IN PLACE*.\n",
      " |  \n",
      " |  sort(self, /, *, key=None, reverse=False)\n",
      " |      Stable sort *IN PLACE*.\n",
      " |  \n",
      " |  ----------------------------------------------------------------------\n",
      " |  Static methods defined here:\n",
      " |  \n",
      " |  __new__(*args, **kwargs) from builtins.type\n",
      " |      Create and return a new object.  See help(type) for accurate signature.\n",
      " |  \n",
      " |  ----------------------------------------------------------------------\n",
      " |  Data and other attributes defined here:\n",
      " |  \n",
      " |  __hash__ = None\n",
      "\n"
     ]
    }
   ],
   "source": [
    "help(moji_list)"
   ]
  },
  {
   "cell_type": "markdown",
   "id": "0fdd63af",
   "metadata": {
    "id": "0fdd63af"
   },
   "source": [
    "### 2.2.2　例外処理"
   ]
  },
  {
   "cell_type": "markdown",
   "id": "27752090",
   "metadata": {
    "id": "27752090"
   },
   "source": [
    "例外処理とは、**想定しない処理**が行われたときにどう対処するかあらかじめ決めておける機能です。  \n",
    "本来ならエラーが起きるとコードが**強制終了**してしまいますが、例外処理を用いることでそれを防ぐことが出来ます。"
   ]
  },
  {
   "cell_type": "markdown",
   "id": "fefe6a4c",
   "metadata": {
    "id": "fefe6a4c"
   },
   "source": [
    "#### 例外処理の基本的な書き方\n",
    "\n",
    "```python\n",
    "try:\n",
    "    # 例外が発生する可能性のあるコード\n",
    "    # ...\n",
    "except 例外の種類:\n",
    "    # その種類の例外が発生した場合に実行するコード\n",
    "    # ...\n",
    "```\n",
    " - **`try:`**: このブロックの中に、エラーが起こるかもしれないコードを書きます。\n",
    " - **`except 例外の種類:`**: `try` ブロックの中で指定した「例外の種類」のエラーが起こった場合に、このブロックの中のコードが実行されます。"
   ]
  },
  {
   "cell_type": "code",
   "execution_count": 14,
   "id": "8c7d059a",
   "metadata": {
    "colab": {
     "base_uri": "https://localhost:8080/",
     "height": 202
    },
    "executionInfo": {
     "elapsed": 43,
     "status": "error",
     "timestamp": 1746009006726,
     "user": {
      "displayName": "灯リーダーズ",
      "userId": "07289622665267954108"
     },
     "user_tz": -540
    },
    "id": "8c7d059a",
    "outputId": "7f57b495-d867-463f-d96c-dc944b195e29"
   },
   "outputs": [
    {
     "ename": "ZeroDivisionError",
     "evalue": "division by zero",
     "output_type": "error",
     "traceback": [
      "\u001b[0;31m---------------------------------------------------------------------------\u001b[0m",
      "\u001b[0;31mZeroDivisionError\u001b[0m                         Traceback (most recent call last)",
      "\u001b[0;32m<ipython-input-14-61cb069225ad>\u001b[0m in \u001b[0;36m<module>\u001b[0;34m\u001b[0m\n\u001b[1;32m      1\u001b[0m \u001b[0;31m# ゼロ除算エラー\u001b[0m\u001b[0;34m\u001b[0m\u001b[0;34m\u001b[0m\u001b[0;34m\u001b[0m\u001b[0m\n\u001b[0;32m----> 2\u001b[0;31m \u001b[0mprint\u001b[0m\u001b[0;34m(\u001b[0m\u001b[0;36m3\u001b[0m \u001b[0;34m/\u001b[0m \u001b[0;36m0\u001b[0m\u001b[0;34m)\u001b[0m \u001b[0;31m# ZeroDivisionError: division by zero\u001b[0m\u001b[0;34m\u001b[0m\u001b[0;34m\u001b[0m\u001b[0m\n\u001b[0m\u001b[1;32m      3\u001b[0m \u001b[0;34m\u001b[0m\u001b[0m\n\u001b[1;32m      4\u001b[0m \u001b[0mprint\u001b[0m\u001b[0;34m(\u001b[0m\u001b[0;36m3\u001b[0m\u001b[0;34m)\u001b[0m\u001b[0;34m\u001b[0m\u001b[0;34m\u001b[0m\u001b[0m\n",
      "\u001b[0;31mZeroDivisionError\u001b[0m: division by zero"
     ]
    }
   ],
   "source": [
    "# ゼロ除算エラー\n",
    "print(3 / 0) # ZeroDivisionError: division by zero\n",
    "\n",
    "print(3)"
   ]
  },
  {
   "cell_type": "code",
   "execution_count": null,
   "id": "3a77e150",
   "metadata": {
    "colab": {
     "base_uri": "https://localhost:8080/"
    },
    "executionInfo": {
     "elapsed": 38,
     "status": "ok",
     "timestamp": 1746009022390,
     "user": {
      "displayName": "灯リーダーズ",
      "userId": "07289622665267954108"
     },
     "user_tz": -540
    },
    "id": "3a77e150",
    "outputId": "7cacce57-55c9-4500-b42d-b2712711c478"
   },
   "outputs": [
    {
     "name": "stdout",
     "output_type": "stream",
     "text": [
      "エラーが発生しました: division by zero\n",
      "3\n"
     ]
    }
   ],
   "source": [
    "# ゼロ除算エラーをtry-exceptでキャッチ\n",
    "try:\n",
    "    print(3 / 0)\n",
    "except ZeroDivisionError as e:\n",
    "    print(f\"エラーが発生しました: {e}\")\n",
    "\n",
    "print(3)"
   ]
  },
  {
   "cell_type": "markdown",
   "id": "6dadfcaf",
   "metadata": {
    "id": "6dadfcaf"
   },
   "source": [
    "#### 複数の `except` ブロック\n",
    "\n",
    "複数の種類のエラーに対応するために、複数の `except` ブロックを使うことができます。"
   ]
  },
  {
   "cell_type": "code",
   "execution_count": null,
   "id": "9d45dd51",
   "metadata": {
    "colab": {
     "base_uri": "https://localhost:8080/"
    },
    "executionInfo": {
     "elapsed": 39,
     "status": "ok",
     "timestamp": 1746009112175,
     "user": {
      "displayName": "灯リーダーズ",
      "userId": "07289622665267954108"
     },
     "user_tz": -540
    },
    "id": "9d45dd51",
    "outputId": "bbf7b8d6-627f-44c8-8529-8171de095b49"
   },
   "outputs": [
    {
     "name": "stdout",
     "output_type": "stream",
     "text": [
      "0で割ることはできません。\n"
     ]
    }
   ],
   "source": [
    "try:\n",
    "    # 例外処理の例\n",
    "    10 / 0 # ゼロ除算エラーを発生させる\n",
    "    # file = open(\"notfound.txt\", \"r\") # ファイルが見つからないエラーを発生させる\n",
    "    # print(3 + \"5\") # 型エラーを発生させる\n",
    "\n",
    "except ZeroDivisionError:\n",
    "    print(\"0で割ることはできません。\")\n",
    "except FileNotFoundError:\n",
    "    print(\"指定されたファイルが見つかりません。\")\n",
    "except TypeError as e:\n",
    "    print(f\"型エラーが発生しました: {e}\")"
   ]
  },
  {
   "cell_type": "markdown",
   "id": "59b2e162",
   "metadata": {
    "id": "59b2e162"
   },
   "source": [
    "- **`as e`**: `except 例外の種類 as 変数:` のように書くと、発生したエラーの詳細情報を持つオブジェクトが `変数` に格納されます。これにより、エラーメッセージなどを確認できます。\n",
    "- **例外の種類を指定せずに**exceptブロックを作ることも出来ますが、**どのような例外が発生したか特定しにくくなる**ため、できるだけ具体的な例外の種類を指定するようにしましょう。"
   ]
  },
  {
   "cell_type": "markdown",
   "id": "ad7bb2f8",
   "metadata": {
    "id": "ad7bb2f8"
   },
   "source": [
    "#### `else` ブロック (`try-except-else`)\n",
    "\n",
    "`try` ブロックの中でエラーが**全く発生しなかった場合のみ**実行されるコードを、`else` ブロックに書くことができます。"
   ]
  },
  {
   "cell_type": "code",
   "execution_count": 15,
   "id": "7e612d70",
   "metadata": {
    "colab": {
     "base_uri": "https://localhost:8080/"
    },
    "executionInfo": {
     "elapsed": 11,
     "status": "ok",
     "timestamp": 1746009252662,
     "user": {
      "displayName": "灯リーダーズ",
      "userId": "07289622665267954108"
     },
     "user_tz": -540
    },
    "id": "7e612d70",
    "outputId": "e3369436-be94-4302-d053-53c3c219ac8c"
   },
   "outputs": [
    {
     "name": "stdout",
     "output_type": "stream",
     "text": [
      "計算結果: 5.0\n"
     ]
    }
   ],
   "source": [
    "try:\n",
    "    result = 10 / 2\n",
    "except ZeroDivisionError:\n",
    "    print(\"0で割ることはできません。\")\n",
    "else:\n",
    "    print(f\"計算結果: {result}\")"
   ]
  },
  {
   "cell_type": "markdown",
   "id": "c3ea5300",
   "metadata": {
    "id": "c3ea5300"
   },
   "source": [
    "#### `finally` ブロック (`try-except-finally`)\n",
    "\n",
    "`finally` ブロックに書かれたコードは、`try` ブロックの中でエラーが発生したかどうかに関わらず、**必ず最後に**実行されます。\n",
    "ファイルのクローズ処理など、後始末が必要な処理によく使われます。"
   ]
  },
  {
   "cell_type": "code",
   "execution_count": null,
   "id": "68d8bd8b",
   "metadata": {
    "colab": {
     "base_uri": "https://localhost:8080/"
    },
    "executionInfo": {
     "elapsed": 36,
     "status": "ok",
     "timestamp": 1746009296085,
     "user": {
      "displayName": "灯リーダーズ",
      "userId": "07289622665267954108"
     },
     "user_tz": -540
    },
    "id": "68d8bd8b",
    "outputId": "637df437-7658-42e0-eac4-6be0b7fae12d"
   },
   "outputs": [
    {
     "name": "stdout",
     "output_type": "stream",
     "text": [
      "ファイルが見つかりませんでした。\n",
      "ファイル操作が終了しました\n"
     ]
    }
   ],
   "source": [
    "try:\n",
    "    f = open(\"my_file.txt\", \"r\")\n",
    "    content = f.read()\n",
    "    print(content)\n",
    "except FileNotFoundError:\n",
    "    print(\"ファイルが見つかりませんでした。\")\n",
    "finally:\n",
    "    print(\"ファイル操作が終了しました\")"
   ]
  },
  {
   "cell_type": "markdown",
   "id": "799a8e9b",
   "metadata": {
    "id": "799a8e9b"
   },
   "source": [
    "#### `try-except-else-finally` の組み合わせ\n",
    "\n",
    "これらを組み合わせて、より複雑な例外処理を行うこともできます。"
   ]
  },
  {
   "cell_type": "code",
   "execution_count": null,
   "id": "62dfeade",
   "metadata": {
    "colab": {
     "base_uri": "https://localhost:8080/"
    },
    "executionInfo": {
     "elapsed": 4929,
     "status": "ok",
     "timestamp": 1746009453048,
     "user": {
      "displayName": "灯リーダーズ",
      "userId": "07289622665267954108"
     },
     "user_tz": -540
    },
    "id": "62dfeade",
    "outputId": "128aa4b1-9ddc-427e-d339-282d1db34cd1"
   },
   "outputs": [
    {
     "name": "stdout",
     "output_type": "stream",
     "text": [
      "整数を入力してください: ak\n",
      "無効な入力です。整数を入力してください。\n",
      "処理を終了します。\n"
     ]
    }
   ],
   "source": [
    "try:\n",
    "    num = int(input(\"整数を入力してください: \"))\n",
    "    result = 100 / num\n",
    "except ValueError:\n",
    "    print(\"無効な入力です。整数を入力してください。\")\n",
    "except ZeroDivisionError:\n",
    "    print(\"0で割ることはできません。\")\n",
    "else:\n",
    "    print(f\"100を{num}で割った結果: {result}\")\n",
    "finally:\n",
    "    print(\"処理を終了します。\")"
   ]
  },
  {
   "cell_type": "markdown",
   "id": "d5238380",
   "metadata": {
    "id": "d5238380"
   },
   "source": [
    "#### まとめ\n",
    "\n",
    "- **例外処理**は、プログラムの安定性を高めるための重要な仕組みです。\n",
    "- **`try` ブロック**で、エラーが起こる可能性のあるコードを囲みます。\n",
    "- **`except` ブロック**で、特定のエラーが発生した場合の処理を記述します。\n",
    "- **`else` ブロック**は、エラーが発生しなかった場合に実行されます。\n",
    "- **`finally` ブロック**は、エラーの有無に関わらず、最後に必ず実行されます。\n",
    "\n",
    "例外処理を適切に使うことで、予期せぬエラーにも強く、ユーザーにとって使いやすいプログラムを作ることができます。"
   ]
  },
  {
   "cell_type": "markdown",
   "id": "d0526568",
   "metadata": {
    "id": "d0526568"
   },
   "source": [
    "### 2.2.3 さいごに"
   ]
  },
  {
   "cell_type": "markdown",
   "id": "95327592",
   "metadata": {
    "id": "95327592"
   },
   "source": [
    "お疲れ様でした！  \n",
    "以上でPythonの基本的な文法は一通り学習し終えたことになります。  \n",
    "まだ身についたか自信がないという方もいると思いますが、大丈夫です。  \n",
    "プログラミングは一度に全てを頭に入れる必要は無く、実際にコードを実装しながら何度も復習することで定着していくものです。  \n",
    "分からなくなったら何度でも講義資料を見直したり、調べたりしながら、ここまでで学んだ内容を少しずつ自分のものにしていきましょう！  \n",
    "\n",
    "\n",
    "以下の感想フォームの提出よろしくお願いします！  \n",
    "https://docs.google.com/forms/d/e/1FAIpQLSep3Jy9xDaKFUWym_61R5QcP-rn5IMjQuP5bgDkb00SgP8XBA/viewform"
   ]
  },
  {
   "cell_type": "markdown",
   "id": "aaed1bbf",
   "metadata": {
    "id": "aaed1bbf"
   },
   "source": [
    "## 2.3 演習問題\n",
    "\n",
    "このセクションでは、Week 2の学習内容に関する演習問題とその取り組み方、提出に関する指示をまとめます。"
   ]
  },
  {
   "cell_type": "markdown",
   "id": "0b2b95ce",
   "metadata": {
    "id": "0b2b95ce"
   },
   "source": [
    "### 課題の提出について\n",
    "\n",
    "Week 2の演習課題として、以下のものに取り組みます。提出要件を確認してください。\n",
    "\n",
    "**【必須課題】**\n",
    "\n",
    "以下の課題は、**必ず**実施し、指定された方法（Colabリンクの共有設定とREADMEへの記入）で提出（アクセス可能に）してください。\n",
    "\n",
    "1.  **演習1:** クラスに属性とメソッドを追加しよう！ (セクション `2.2.1` 参照)\n",
    "    * 新しいNotebook(例：`dog_expand.ipynb`)で実装する。\n",
    "    * Dogクラスにfavorite属性とlikeメソッドを追加する。\n",
    "2.  **演習2:** 例外処理を記述しよう！（セクション`2.2.2` 参照）\n",
    "    * 新しいNotebook（例: `sum_numeric_list.ipynb`）で実装する。\n",
    "    * 与えられたリストの数値の合計を返す関数を実装する。リストに数値以外が含まれている場合は`ValueError`が発生する可能性があるので、例外処理を用いる。\n",
    "\n",
    "**【任意課題】**\n",
    "\n",
    "以下の課題は**任意**です。必須ではありませんが、余裕のある方、さらに理解を深めたい方はぜひ挑戦してみてください。\n",
    "\n",
    "3.  **演習3:** クラスを実装してみよう！\n",
    "    * 新しいNotebook(例: `rectangle.ipynb`)で実装する。\n",
    "4.  **演習4:** クラスの継承を実装してみよう！\n",
    "    * **演習3**のNotebookに追加する形で実装する。\n",
    "\n",
    "**提出方法の確認:**\n",
    "\n",
    "* 課題の提出は、ご自身のGitHubリポジトリの該当週のディレクトリ（今回は `week2/`）に必要なファイル (`README.md`) が含まれており、`week2/README.md` に記載されたColabリンクが**リンクを知っている全員が閲覧者**の設定で正しくアクセスできるようにしてください\n",
    "* **リポジトリの操作はウェブ上で完結します。** 詳しい手順はslackに上がっている動画を確認してください。\n",
    "\n",
    "不明点があれば、遠慮なく質問してください。\n",
    "\n",
    "---"
   ]
  },
  {
   "cell_type": "markdown",
   "id": "9855f8df",
   "metadata": {
    "id": "9855f8df"
   },
   "source": [
    "week2/READEME.mdの例  \n",
    "\n",
    "課題1  \n",
    "`dog_expand.ipynbのcolabノートブックへのリンク`  \n",
    "課題2  \n",
    "`sum_numeric_list.ipynbのcolabノートブックへのリンク`\n"
   ]
  },
  {
   "cell_type": "markdown",
   "id": "364b63f9",
   "metadata": {
    "id": "364b63f9"
   },
   "source": [
    "#### 2.3.1 演習問題1：クラスに属性とメソッドを追加しよう！\n",
    "\n",
    "以下に実装されているコードに追加で実装してください。\n",
    "\n",
    "**要件**\n",
    "* 以下のコードをコピーして、必要なコードを追加する形で実装する。\n",
    "* favorite属性は他の属性と同様__init__メソッドで初期化できるようにする。\n",
    "* likeメソッドを実行したら「`self.name`の好物は`self.favorite`です。」とprintするように実装する。(ヒント:f-string)  \n",
    "例: ポチの好物はリンゴです。"
   ]
  },
  {
   "cell_type": "code",
   "execution_count": null,
   "id": "869aeaff",
   "metadata": {
    "id": "869aeaff"
   },
   "outputs": [],
   "source": [
    "# Dogクラスの定義(favorite属性とlikeメソッドを追加してください)\n",
    "class Dog:\n",
    "    def __init__(self, name, age):\n",
    "        self.name = name\n",
    "        self.age = age\n",
    "\n",
    "    def bark(self):\n",
    "        print(f\"{self.name}がワン！と吠えます。\")\n",
    "\n",
    "# Dogクラスのインスタンスを作成 (適切な初期化を行ってください)\n",
    "pochi =\n",
    "shiro =\n",
    "\n",
    "# インスタンスのメソッドを呼び出す\n",
    "pochi.bark()  # 出力: ポチがワン！と吠えます。\n",
    "shiro.bark()  # 出力: シロがワン！と吠えます。\n",
    "\n",
    "# 以下で実装したlikeメソッドを呼び出してください"
   ]
  },
  {
   "cell_type": "markdown",
   "id": "f565a781",
   "metadata": {
    "id": "f565a781"
   },
   "source": [
    "#### 2.3.2 演習問題2：例外処理を記述しよう!\n",
    "\n",
    "以下に実装されているコードに追加で実装してください。\n",
    "\n",
    "**要件**\n",
    "* 以下のコードをコピーして、必要なコードを追加する形で実装する。\n",
    "* リストに含まれている数値の合計を返す関数を実装する。\n",
    "* リストに数値以外が含まれている場合`ValueError`が発生する可能性があるため、適切に例外処理を用いる。\n",
    "* 数値以外の値を処理するたびに、「無効な値が含まれています：`数値でない値`」とprintする。"
   ]
  },
  {
   "cell_type": "code",
   "execution_count": 16,
   "id": "16b4ef26",
   "metadata": {
    "id": "16b4ef26",
    "outputId": "6169a9c2-ad81-4144-d598-3680362c7ead"
   },
   "outputs": [
    {
     "name": "stdout",
     "output_type": "stream",
     "text": [
      "リスト1の合計: 0\n",
      "リスト2の合計: 0\n"
     ]
    }
   ],
   "source": [
    "def sum_numeric_list(data):\n",
    "    total = 0\n",
    "    # ここに処理を記述\n",
    "\n",
    "    return total\n",
    "\n",
    "test_list1 = [1, 2, 3, 4, 5]\n",
    "test_list2 = [1, \"hello\", 3, \"world\", 5]\n",
    "print(f\"リスト1の合計: {sum_numeric_list(test_list1)}\")\n",
    "print(f\"リスト2の合計: {sum_numeric_list(test_list2)}\")"
   ]
  },
  {
   "cell_type": "markdown",
   "id": "1f6b388f",
   "metadata": {
    "id": "1f6b388f"
   },
   "source": [
    "##### 演習問題2のヒント1"
   ]
  },
  {
   "cell_type": "markdown",
   "id": "12242780",
   "metadata": {
    "id": "12242780"
   },
   "source": [
    "* リストの要素を一つずつ取り出して、可能ならtotalに足す、エラーが出たら「無効な値が含まれています：`数値でない値`」とprintしたい。"
   ]
  },
  {
   "cell_type": "markdown",
   "id": "174d64b8",
   "metadata": {
    "id": "174d64b8"
   },
   "source": [
    "##### 演習問題2のヒント2"
   ]
  },
  {
   "cell_type": "markdown",
   "id": "d738d56e",
   "metadata": {
    "id": "d738d56e"
   },
   "source": [
    "* リストの要素を一つずつ取り出すには、第一回で扱ったfor文を使う。  \n",
    "* for文の中で、itemをtotalに加算できるかを試していく  \n",
    "* 加算出来なかった場合のprintには、f-stringを用いる\n",
    "↓例\n",
    "```Python\n",
    "for item in data:\n",
    "    # itemが数値ならtotalに加算する\n",
    "    # itemが数値でない場合は「無効な値が含まれています：`数値でない値`」と表示する\n",
    "    try:\n",
    "        ...\n",
    "    except:\n",
    "        ...\n",
    "```"
   ]
  },
  {
   "cell_type": "markdown",
   "id": "3af44d5a",
   "metadata": {
    "id": "3af44d5a"
   },
   "source": [
    "#### 2.3.3 演習問題3：クラスを実装してみよう！\n",
    "\n",
    "以下の仕様を満たす `Rectangle` クラスを作成してください。\n",
    "\n",
    "**属性:**\n",
    "* `width` (幅)\n",
    "* `height` (高さ)\n",
    "\n",
    "**コンストラクタ (`__init__`):**\n",
    "* 幅と高さを引数として受け取り、それぞれの属性を初期化します。\n",
    "\n",
    "**メソッド:**\n",
    "* `area()`: 矩形の面積を計算して返します。\n",
    "* `perimeter()`: 矩形の周囲長を計算して返します。\n",
    "\n",
    "作成した `Rectangle` クラスのインスタンスをいくつか作成し、それぞれの面積と周囲長を出力してください。"
   ]
  },
  {
   "cell_type": "markdown",
   "id": "3591a628",
   "metadata": {
    "id": "3591a628"
   },
   "source": [
    "#### 2.3.4 演習問題4：クラスの継承を実装してみよう！\n",
    "\n",
    "演習問題3で作成した `Rectangle` クラスを親クラスとして、`Square` クラスを作成してください。\n",
    "\n",
    "`Square` クラスは、正方形なので、幅と高さは同じです。`Square` クラスのコンストラクタは、正方形の一辺の長さを引数として受け取り、親クラスのコンストラクタを適切に呼び出して幅と高さを初期化してください。\n",
    "\n",
    "`Square` クラスのインスタンスを作成し、面積と周囲長を出力してください。"
   ]
  }
 ],
 "metadata": {
  "colab": {
   "collapsed_sections": [
    "1f6b388f",
    "174d64b8"
   ],
   "provenance": []
  },
  "kernelspec": {
   "display_name": "Python 3",
   "language": "python",
   "name": "python3"
  },
  "language_info": {
   "codemirror_mode": {
    "name": "ipython",
    "version": 3
   },
   "file_extension": ".py",
   "mimetype": "text/x-python",
   "name": "python",
   "nbconvert_exporter": "python",
   "pygments_lexer": "ipython3",
   "version": "3.7.17"
  }
 },
 "nbformat": 4,
 "nbformat_minor": 5
}
