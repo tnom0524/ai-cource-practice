{
 "cells": [
  {
   "cell_type": "markdown",
   "metadata": {},
   "source": [
    "#### 1.2.3.2 演習問題2\n",
    "\n",
    "#### Python基礎力アップ課題：FizzBuzzに挑戦！\n",
    "\n",
    "ここまでの学習内容（変数、リスト、if文、forループ、関数）を使って、プログラミングの定番問題「FizzBuzz」に挑戦してみましょう！ステップを2段階に分けて進めます。\n",
    "\n",
    "\n",
    "### 【ステップ1：基礎編】3の倍数だけ特別扱いリストを作ろう！\n",
    "\n",
    "**課題内容：**\n",
    "\n",
    "1.  1から**20まで**の整数を順番にチェックします。\n",
    "2.  もし、その数字が**3で割り切れる**場合は、結果を格納するためのリストに文字列 `\"Multiple of 3\"` を追加します。\n",
    "3.  もし、その数字が**3で割り切れない**場合は、結果を格納するためのリストに**その数字自体**を追加します。\n",
    "4.  最後に、完成したリスト全体を `print()` で表示してください。\n",
    "\n",
    "**期待される出力イメージ（リストの中身）：**\n",
    "```\n",
    "[1, 2, 'Multiple of 3', 4, 5, 'Multiple of 3', 7, 8, 'Multiple of 3', 10, 11, 'Multiple of 3', 13, 14, 'Multiple of 3', 16, 17, 'Multiple of 3', 19, 20]\n",
    "```\n",
    "**ヒント：**\n",
    "\n",
    "* 数字の範囲を作るには `range()` 関数を使います。(`for i in range(1, 21):` のように書くと1から20までを扱えます)\n",
    "* 割り切れるかどうかの判定には、剰余演算子 `%` を使います。( `number % 3 == 0` で3で割り切れるかチェックできます)\n",
    "* 条件に応じて処理を分けるには `if` と `else` を使います。\n",
    "* リストに要素を追加するには `append()` メソッドを使います。（例: `result_list.append(item)`）\n",
    "* 最初に空のリストを作成しておく必要があります。（例: `result_list = []`）\n",
    "\n",
    "---"
   ]
  },
  {
   "cell_type": "code",
   "execution_count": 2,
   "metadata": {},
   "outputs": [
    {
     "name": "stdout",
     "output_type": "stream",
     "text": [
      "[1, 2, 'Multiple of 3', 4, 5, 'Multiple of 3', 7, 8, 'Multiple of 3', 10, 11, 'Multiple of 3', 13, 14, 'Multiple of 3', 16, 17, 'Multiple of 3', 19, 20]\n"
     ]
    }
   ],
   "source": [
    "result_list = []\n",
    "for i in range(1, 21):\n",
    "    if i % 3 != 0:\n",
    "        result_list.append(i)\n",
    "    else:\n",
    "        result_list.append('Multiple of 3')\n",
    "print(result_list)    "
   ]
  }
 ],
 "metadata": {
  "kernelspec": {
   "display_name": "Python 3",
   "language": "python",
   "name": "python3"
  },
  "language_info": {
   "codemirror_mode": {
    "name": "ipython",
    "version": 3
   },
   "file_extension": ".py",
   "mimetype": "text/x-python",
   "name": "python",
   "nbconvert_exporter": "python",
   "pygments_lexer": "ipython3",
   "version": "3.7.17"
  }
 },
 "nbformat": 4,
 "nbformat_minor": 2
}
