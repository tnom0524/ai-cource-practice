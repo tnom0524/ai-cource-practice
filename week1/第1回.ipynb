{
 "cells": [
  {
   "cell_type": "markdown",
   "metadata": {
    "id": "6jBo542knA85"
   },
   "source": [
    "# 1 AI講座 第1回イントロダクション\n",
    "\n"
   ]
  },
  {
   "cell_type": "markdown",
   "metadata": {
    "id": "l8BVzMOdpYFf"
   },
   "source": [
    "\n",
    "## 1.1 なぜAI・機械学習を勉強するのか\n",
    "\n",
    "皆さん、ようこそ実践AI講座へ！ この講座は、AIの中核技術であるデータサイエンス（データ分析）の基礎を身に付け、皆さんがAIを活用して課題を解決できるようになることを目指しています。\n",
    "\n",
    "**データサイエンティストとは？**\n",
    "データサイエンティストとは「ビジネスにおいてデータから引き出す価値を最大化するために、統計や機械学習（数学）とプログラミング（IT）スキルを使って、解決する人」と定義できます。\n",
    "\n",
    "以下のような力が求められます\n",
    "* **数学・統計:** 統計学や数学の知識からデータの傾向や意味を引き出します。\n",
    "* **実装力（エンジニアリング）:** Pythonなどのプログラミング言語を使って、分析やモデルを実際に形にします。\n",
    "* **課題解決力（コンサルティング）:** そもそも「何を解決すべきか」を見つけ出し、分析結果をビジネスに活かす提案をします。\n",
    "\n",
    "これらのスキルは、どれか一つだけが突出していれば良いというわけではなく、**統合的な能力**が重要になります。一人で全てのエキスパートになるのは難しいですが、チームで協力して課題解決にあたることも多くあります。\n",
    "\n",
    "**なぜ今、AI/データサイエンスを学ぶのか？**\n",
    "1.  **課題解決の強力なツール:** ビジネスや研究、日常生活の様々な場面で、データに基づいた意思決定や、これまで人手に頼っていた作業の自動化が可能になります。\n",
    "2.  **市場価値の向上:** AIやデータ分析のスキルは、現代において非常に需要が高く、身につけることで自身のキャリアの選択肢を大きく広げることができます。\n",
    "3.  **創造性の発揮:** データを分析し、モデルを構築し、それが実際に動いて結果を出すプロセスは非常にクリエイティブで楽しいものです。試行錯誤しながら、自分の手で「未来を予測する」「賢いシステムを作る」体験をしてみましょう。\n",
    "\n",
    "この講座では、データ分析のプロセス（ビジネス理解、データ理解、加工、モデリング、検証、運用）を意識しつつ、特にPythonを用いた**実装力**を養うことに重点を置きます。手を動かしながら試行錯誤し、AI・データサイエンスを身につけていきましょう！！\n"
   ]
  },
  {
   "cell_type": "markdown",
   "metadata": {
    "id": "_UvUN3eupZsl"
   },
   "source": [
    "## 1.2 各週で学ぶこと・得られる知識（1週目〜10週目）\n",
    "\n",
    "この講座で皆さんがどのようなスキルを段階的に習得していくのか、各週のテーマとゴールを見ていきましょう。\n",
    "\n",
    "**Week 1〜2: Python基礎**\n",
    "* **学ぶこと:**\n",
    "    * AI講座全体の流れとゴール設定\n",
    "    * Pythonの基本文法（変数、データ型、リスト、辞書など）\n",
    "    * 関数の定義と使い方、モジュールの利用、エラーへの対処法（例外処理）、クラスの概念\n",
    "    * バージョン管理ツールGit/GitHubの基本操作（リポジトリ作成、clone, push, pull）\n",
    "* **得られる知識・スキル:**\n",
    "    * **Pythonで基本的なプログラミングができるようになります。**\n",
    "    * **コードをGitHubで管理し、共同開発（ペアレビューなど）の基礎がわかります。**\n",
    "\n",
    "**Week 3〜4: データ分析（NumPy / Pandas / 可視化 / EDA）**\n",
    "* **学ぶこと:**\n",
    "    * 数値計算ライブラリNumPy（配列操作、ブロードキャスト）\n",
    "    * データ操作ライブラリPandas（DataFrame/Series、データの読み込み、欠損値処理、集計）\n",
    "    * データ可視化ライブラリMatplotlib/Seabornを用いたグラフ作成\n",
    "    * 探索的データ分析（EDA）の手法と流れ\n",
    "* **得られる知識・スキル:**\n",
    "    * **表形式データを効率的に処理・加工できるようになります。**\n",
    "    * **データをグラフ化し、傾向や特徴を視覚的に捉えるスキルが身につきます。**\n",
    "    * **データから洞察を得るための分析アプローチ（EDA）を実践できるようになります。**\n",
    "\n",
    "**Week 5〜7: ワクワク系AIプロジェクト（MNIST, チャットボット, 画像処理など）**\n",
    "* **学ぶこと:**\n",
    "    * 機械学習・深層学習（Deep Learning）の基礎概念\n",
    "    * 深層学習フレームワークPyTorchの基本\n",
    "    * 手書き数字認識（MNIST）：基本的なニューラルネットワークの実装と学習\n",
    "    * 画像処理：CNNの基礎、画像フィルタリングやエフェクトの実装（OpenCV/Pillow）\n",
    "    * 自然言語処理（NLP）：RNN, LSTM, Attentionの概要、翻訳モデルの作成例\n",
    "* **得られる知識・スキル:**\n",
    "    * **代表的なAI（深層学習）モデルの仕組みを理解し、簡単なモデルを実装・学習できるようになります。**\n",
    "    * **画像認識や自然言語処理といった具体的なAI応用タスクに触れ、実践的な開発を体験します。**\n",
    "    * **Colab環境でのGPU利用方法を習得します。**\n",
    "\n",
    "**Week 8〜10: 最終プロジェクト（個人開発）**\n",
    "* **学ぶこと:**\n",
    "    * 自分のアイデアに基づくAIプロジェクトの企画・設計\n",
    "    * プロジェクト計画（Issue管理、スケジュール）とGitHubを用いた管理方法\n",
    "    * 実装、テスト、デバッグの進め方\n",
    "    * 必要に応じた応用技術の調査・導入\n",
    "* **得られる知識・スキル:**\n",
    "    * **自身でテーマを設定し、AIを活用した小規模なアプリケーションや分析を計画・実行する能力が身につきます。**\n",
    "    * **プロジェクト管理の基礎を実践的に学びます。**\n",
    "    * **自走して開発を進めるための問題解決能力が向上します。**\n",
    "\n",
    "**(Week 11以降は発表・まとめ)**\n",
    "\n",
    "\n",
    "**最後に**   \n",
    "この講座を通して、Pythonプログラミングからデータ分析、そしてAIモデルの実装まで、一連のスキルを実践的に学んでいきます。「自分で考えて手を動かしながら学ぶこと」が最も重要です。エラーを恐れず、楽しみながら学んでいきましょう！"
   ]
  },
  {
   "cell_type": "markdown",
   "metadata": {
    "id": "_9O8UnAqqUzP"
   },
   "source": [
    "## 1.2 Pythonの基礎\n",
    "\n",
    "**このセクションのゴール：**  \n",
    "**Google Colabを使い、Pythonの基本的な文法を理解し、簡単なプログラムを自分で書いて実行できるようになること。**\n",
    "\n",
    "---\n",
    "\n",
    "この講座全体を通して、データ分析を進めるための主要なプログラミング言語として「Python」を使用します。\n",
    "\n",
    "pythonを選択する理由は以下の通りです。\n",
    "\n",
    "1.  **記述の容易さ:** 他の多くのプログラミング言語と比較して、Pythonの文法はシンプルで直感的であり、コードを読み書きしやすいです。\n",
    "2.  **一貫性:** データの取得や加工、整形、そして可視化、機械学習モデルの構築といった、データサイエンスに必要な一連の作業をPythonという一つの言語（とそのライブラリ）で完結させることが可能です。\n",
    "3.  **豊富なライブラリ:** データ解析（NumPy, Pandas）、数値計算（SciPy）、可視化（Matplotlib, Seaborn）、機械学習（Scikit-learn, PyTorch, TensorFlow）などに特化した強力なライブラリ（便利なツール群）が数多く開発されており、これらを活用することで複雑な処理も効率的に実装できます。\n",
    "\n",
    "これらの利点から、Pythonは世界中のデータサイエンティストや研究者、エンジニアに広く採用されており、活発なコミュニティによって日々新しい機能やライブラリが開発され、進化を続けています。\n",
    "\n",
    "なお、Pythonにはいくつかのバージョンがありますが、本講座では現在主流であり、広く使われている「Python 3」系を基準として進めます（旧バージョンのPython 2は開発が終了しています）。"
   ]
  },
  {
   "cell_type": "markdown",
   "metadata": {
    "id": "P2MptrRTqgOx"
   },
   "source": [
    "## 1.2.1 Notebookとは？\n",
    "\n",
    "Notebook（ノートブック）とは、プログラムコード（例: Python）、そのコードに関する説明文（見出し、テキスト、箇条書きなど）、数式、そしてコードを実行した結果（数値、表、グラフなど）を、すべて一つの文書（ファイル）にまとめて記録・編集・共有できる非常に便利なツールです。\n",
    "\n",
    "コードは「セル」と呼ばれるブロック単位で記述し、そのセルごとに実行して結果をすぐに確認できます。実行したセルの状態（変数など）は保持されるため、対話的に試行錯誤しながらデータ分析やプログラミングを進めるのに最適です。\n",
    "\n",
    "この講座では、主に「Jupyter Notebook」や、Webブラウザ上で利用できる「Google Colaboratory (Colab)」といったNotebook環境を使って学習を進めていきます。"
   ]
  },
  {
   "cell_type": "markdown",
   "metadata": {
    "id": "8aNxwfeI0svj"
   },
   "source": [
    "### 1.2.1.1 Notebookの主要なキーボードショートカット\n",
    "\n",
    "Notebook環境（Jupyter Notebook, Google Colabなど）では、キーボードショートカットを使うことで効率的に作業を進めることができます。\n",
    "\n",
    "---\n",
    "\n",
    "#### **⭐️ 特に重要！！ まず覚えたいショートカット ⭐️**\n",
    "\n",
    "Notebook操作に慣れるために、まずは以下の5つのショートカットを頻繁に使ってみましょう！ これらを覚えるだけで、操作効率が格段に上がります。\n",
    "\n",
    "1.  **`Shift + Enter`**: **セルを実行して、次のセルへ移動します。**\n",
    "    * コーディングや分析を進める上での最も基本的な操作です。\n",
    "\n",
    "2.  **`Esc`**: **コマンドモードへ移行します。**\n",
    "    * セルの中身ではなく、セル自体を操作したい時（移動、コピー、削除、種類変更など）に使います。セルの枠が青色になります。\n",
    "\n",
    "3.  **`Enter`**: **編集モードへ移行します。**\n",
    "    * コマンドモードでセルを選択している状態で押すと、セル内にコードやテキストを書き込める状態になります。セルの枠が緑色になります。\n",
    "\n",
    "4.  **`B`**: **下に新しいセルを挿入します (コマンドモード中に)。**\n",
    "    * `Below`のBと覚えます。新しいコードや説明文を追加したい時に使います。\n",
    "\n",
    "5.  **`cmd/ctl + M D`: 選択中のセルを削除します (コマンドモード中に)。**\n",
    "    * `Delete`のDです。不要になったセルを素早く消すことができます。\n",
    "\n",
    "---\n",
    "\n",
    "### その他の便利なショートカット\n",
    "\n",
    "上記の基本的な操作に慣れてきたら、以下のショートカットも覚えていくとさらに便利です。\n",
    "\n",
    "#### モードについて\n",
    "\n",
    "* **コマンドモード (Command Mode):** セルの枠が青色。セル自体を選択・操作するモード。(`Esc`で移行)\n",
    "* **編集モード (Edit Mode):** セルの枠が緑色。セルの中身を編集するモード。(`Enter`で移行)\n",
    "\n",
    "#### コマンドモード（セルの枠が青い状態）のショートカット\n",
    "\n",
    "* **セルの実行:**\n",
    "    * `Ctrl + Enter`: 現在のセルを実行し、選択は現在のセルに留まる\n",
    "        * *(Macでも `Ctrl` が多いですが、環境による差も)*\n",
    "    * `Alt + Enter`: 現在のセルを実行し、下に新しい空のセルを挿入\n",
    "        * *(Macでは `Option + Enter`)*\n",
    "* **セルのタイプ変更:**\n",
    "    * `Y`: セルをコードセルに変更\n",
    "    * `M`: セルをMarkdownセルに変更\n",
    "* **セルの操作:**\n",
    "    * `A`: 現在のセルの「上」(Above)に新しいセルを挿入\n",
    "    * `X`: 選択中のセルを切り取り (Cut)\n",
    "    * `C`: 選択中のセルをコピー (Copy)\n",
    "    * `V`: 切り取り/コピーしたセルを、現在のセルの下に貼り付け (Paste)\n",
    "    * `Shift + V`: 切り取り/コピーしたセルを、現在のセルの上に貼り付け\n",
    "    * `Z`: セルの削除操作などを元に戻す (Undo)\n",
    "* **セルの選択移動:**\n",
    "    * `↑` または `K`: 上のセルへ移動\n",
    "    * `↓` または `J`: 下のセルへ移動\n",
    "* **その他:**\n",
    "    * `H`: キーボードショートカットの一覧を表示\n",
    "    * `S`: ノートブックを保存 (Save)\n",
    "        * *(これは `Ctrl + S` (Win) / `Cmd + S` (Mac) が一般的)*\n",
    "\n",
    "#### 編集モード（セルの枠が緑の状態）のショートカット\n",
    "\n",
    "* `Tab`: コード補完 or インデント\n",
    "* `Shift + Tab`: 関数やオブジェクトの説明表示\n",
    "* `Ctrl + Shift + -`: カーソル位置でセルを分割\n",
    "    * *(Macでも `Ctrl` が多いです)*\n",
    "\n",
    "---\n",
    "\n",
    "まずは「特に重要！！」の5つを意識して使い、徐々に他のショートカットも試してみてください。"
   ]
  },
  {
   "cell_type": "markdown",
   "metadata": {
    "id": "63IEpB9m38po"
   },
   "source": [
    "pythonでは\"print\"と書くだけで文字列を出力することができます(表示させる文字列は'or\"で囲ってあげる必要があります)"
   ]
  },
  {
   "cell_type": "code",
   "execution_count": 7,
   "metadata": {
    "colab": {
     "base_uri": "https://localhost:8080/"
    },
    "executionInfo": {
     "elapsed": 108,
     "status": "ok",
     "timestamp": 1745370905209,
     "user": {
      "displayName": "灯リーダーズ",
      "userId": "07289622665267954108"
     },
     "user_tz": -540
    },
    "id": "525xmIxG4LAg",
    "outputId": "3132c3a9-feb6-496f-c78b-a7dc63118823"
   },
   "outputs": [
    {
     "name": "stdout",
     "output_type": "stream",
     "text": [
      "Hello World\n"
     ]
    }
   ],
   "source": [
    "print(\"Hello World\")"
   ]
  },
  {
   "cell_type": "markdown",
   "metadata": {
    "id": "itMzpzpz4Rwo"
   },
   "source": [
    "その他にも冪乗や計算結果も出力することができます"
   ]
  },
  {
   "cell_type": "code",
   "execution_count": 8,
   "metadata": {
    "colab": {
     "base_uri": "https://localhost:8080/"
    },
    "executionInfo": {
     "elapsed": 3,
     "status": "ok",
     "timestamp": 1745370905213,
     "user": {
      "displayName": "灯リーダーズ",
      "userId": "07289622665267954108"
     },
     "user_tz": -540
    },
    "id": "K6SrNPnz4hm_",
    "outputId": "eb457198-15d5-47ec-c470-412871cba2fa"
   },
   "outputs": [
    {
     "name": "stdout",
     "output_type": "stream",
     "text": [
      "3\n",
      "120\n",
      "125\n"
     ]
    }
   ],
   "source": [
    "# 足し算の例\n",
    "print(1 + 2)\n",
    "\n",
    "# 掛け算の例\n",
    "print(10 * 12)\n",
    "\n",
    "# 10の3乗, べき乗は**を使う\n",
    "print(5 ** 3)"
   ]
  },
  {
   "cell_type": "markdown",
   "metadata": {
    "id": "Cf2QRTQdqjg_"
   },
   "source": [
    "## 1.2.2 githubとは\n",
    "![image](https://image-prod.kigyolog.com/contents/images/c6eacdefb19c669ab1bdd6d05e9cd54f.png)  \n",
    "[参考](https://kigyolog.com/tool.php?id=2312)\n",
    "\n",
    "## 1.2.3 Git/GitHubとは\n",
    "\n",
    "Git（ギット）は、プログラムコードなどのファイルに加えた変更を記録・管理するための「バージョン管理システム」です。\n",
    "\n",
    "画像の右側のように、皆で一つのファイルを直接編集するのではなく、まず自分のPCにファイル一式のコピー（ローカルリポジトリ）を作ります。そこで編集作業を行い、完了したらその変更内容を元の場所（リモートリポジトリ）に反映させる、という流れで使います。これにより、誰がいつ何をどう変更したかが記録され、昔の状態に戻したり、複数人での共同作業がしやすくなります。\n",
    "\n",
    "GitHub（ギットハブ）は、このGitの仕組みをインターネット上で提供する、最も有名なWebサービスの一つです。Gitリポジトリを保管する場所を提供し、チームでの開発やコードの公開・共有をスムーズに行えるようにします。\n",
    "\n",
    "例えるなら、グループでレポートを書くときに、各自が手元で下書き（ローカルリポジトリ）を書き、完成したら代表者が集めて一つのレポート（リモートリポジトリ）にまとめるようなイメージです。"
   ]
  },
  {
   "cell_type": "markdown",
   "metadata": {
    "id": "UWwYpz3sqsHv"
   },
   "source": [
    "## 1.2.3 python基礎"
   ]
  },
  {
   "cell_type": "markdown",
   "metadata": {
    "id": "T2SjCghAqqQF"
   },
   "source": [
    "### 1.2.3.1 変数の基礎\n",
    "\n",
    "Pythonの基本的な使い方について、さらに見ていきましょう。これから紹介するコード例は、ぜひお手元のJupyter環境で実際に入力し、実行してみてください。\n",
    "\n",
    "### 変数とデータ型\n",
    "\n",
    "まず基本となるのが「変数」です。これは、様々なデータ（値）を入れておくための名前付きの箱のようなものだと考えてください。\n",
    "\n",
    "例えば、`msg` という名前の変数に `'test'` という文字列（文字の並び）を格納してみましょう。文字列データを作成する際は、シングルクォーテーション `' '` またはダブルクォーテーション `\" \"` で囲むルールです。変数に格納した値は `print()` という関数を使って画面に出力・確認できます。"
   ]
  },
  {
   "cell_type": "code",
   "execution_count": 9,
   "metadata": {
    "colab": {
     "base_uri": "https://localhost:8080/"
    },
    "executionInfo": {
     "elapsed": 2,
     "status": "ok",
     "timestamp": 1745370905247,
     "user": {
      "displayName": "灯リーダーズ",
      "userId": "07289622665267954108"
     },
     "user_tz": -540
    },
    "id": "R8hG_ujL5-LN",
    "outputId": "5931f332-63d4-40af-cd56-fc69a5740c51"
   },
   "outputs": [
    {
     "name": "stdout",
     "output_type": "stream",
     "text": [
      "test\n"
     ]
    }
   ],
   "source": [
    "# msgという変数に文字列'test'を代入\n",
    "msg = 'test'\n",
    "# msgの内容を表示\n",
    "print(msg)"
   ]
  },
  {
   "cell_type": "markdown",
   "metadata": {
    "id": "-VOTtoR15zcr"
   },
   "source": [
    "Pythonの特徴の一つに、変数の「型」を事前に宣言する必要がない点があります。C言語やJavaのような静的型付け言語では、変数を使う前に「この変数は整数用(int)」「これは文字列用(string)」のように型を明示的に宣言しますが、Python（動的型付け言語）では変数に値を代入するだけで、自動的に適切なデータ型が割り当てられます。\n",
    "\n",
    "文字列のインデックス操作\n",
    "変数に格納された文字列から、特定の位置にある一文字だけを取り出す操作も可能です。これには、角括弧 [] と、取り出したい文字の位置を示す番号（インデックス）を使用します。\n",
    "\n",
    "重要な注意点として、インデックスは必ず 0 から始まります。 つまり、文字列の先頭の文字はインデックス 0、2番目の文字はインデックス 1 となります。"
   ]
  },
  {
   "cell_type": "code",
   "execution_count": 10,
   "metadata": {
    "colab": {
     "base_uri": "https://localhost:8080/"
    },
    "executionInfo": {
     "elapsed": 11,
     "status": "ok",
     "timestamp": 1745370905258,
     "user": {
      "displayName": "灯リーダーズ",
      "userId": "07289622665267954108"
     },
     "user_tz": -540
    },
    "id": "jedC5My16HXM",
    "outputId": "8f153217-efb9-4680-8de7-6915aa5e839e"
   },
   "outputs": [
    {
     "name": "stdout",
     "output_type": "stream",
     "text": [
      "t\n"
     ]
    }
   ],
   "source": [
    "# msg変数には 'test' が入っている\n",
    "# インデックス0（先頭）の文字を取り出す\n",
    "print(msg[0])"
   ]
  },
  {
   "cell_type": "code",
   "execution_count": 11,
   "metadata": {
    "colab": {
     "base_uri": "https://localhost:8080/"
    },
    "executionInfo": {
     "elapsed": 76,
     "status": "ok",
     "timestamp": 1745370905341,
     "user": {
      "displayName": "灯リーダーズ",
      "userId": "07289622665267954108"
     },
     "user_tz": -540
    },
    "id": "KiqKFE-n6JL5",
    "outputId": "64f7e135-9620-4961-da4d-56b298e5a8a2"
   },
   "outputs": [
    {
     "name": "stdout",
     "output_type": "stream",
     "text": [
      "e\n"
     ]
    }
   ],
   "source": [
    "# インデックス1（2番目）の文字を取り出す\n",
    "print(msg[1])"
   ]
  },
  {
   "cell_type": "markdown",
   "metadata": {
    "id": "qVptZgs56M39"
   },
   "source": [
    "もし、文字列の長さを超えるインデックスを指定しようとすると、エラーが発生します。'test' という文字列の長さは4文字なので、有効なインデックスは 0, 1, 2, 3 の4つです。インデックス 5 を指定すると、対応する文字が存在しないためエラーとなります。"
   ]
  },
  {
   "cell_type": "code",
   "execution_count": 12,
   "metadata": {
    "colab": {
     "base_uri": "https://localhost:8080/",
     "height": 176
    },
    "executionInfo": {
     "elapsed": 36,
     "status": "error",
     "timestamp": 1745370905378,
     "user": {
      "displayName": "灯リーダーズ",
      "userId": "07289622665267954108"
     },
     "user_tz": -540
    },
    "id": "pUV2qjlC6Rlm",
    "outputId": "3ec49568-83e6-41f8-fca8-128795c16a90"
   },
   "outputs": [
    {
     "ename": "IndexError",
     "evalue": "string index out of range",
     "output_type": "error",
     "traceback": [
      "\u001b[0;31m---------------------------------------------------------------------------\u001b[0m",
      "\u001b[0;31mIndexError\u001b[0m                                Traceback (most recent call last)",
      "\u001b[0;32m<ipython-input-12-3c038eb2884c>\u001b[0m in \u001b[0;36m<module>\u001b[0;34m\u001b[0m\n\u001b[1;32m      1\u001b[0m \u001b[0;31m# 'test' (インデックスは0～3) に存在しないインデックス5を指定\u001b[0m\u001b[0;34m\u001b[0m\u001b[0;34m\u001b[0m\u001b[0;34m\u001b[0m\u001b[0m\n\u001b[1;32m      2\u001b[0m \u001b[0;31m# 実行するとエラー(IndexError)が発生する\u001b[0m\u001b[0;34m\u001b[0m\u001b[0;34m\u001b[0m\u001b[0;34m\u001b[0m\u001b[0m\n\u001b[0;32m----> 3\u001b[0;31m \u001b[0mprint\u001b[0m\u001b[0;34m(\u001b[0m\u001b[0mmsg\u001b[0m\u001b[0;34m[\u001b[0m\u001b[0;36m5\u001b[0m\u001b[0;34m]\u001b[0m\u001b[0;34m)\u001b[0m\u001b[0;34m\u001b[0m\u001b[0;34m\u001b[0m\u001b[0m\n\u001b[0m",
      "\u001b[0;31mIndexError\u001b[0m: string index out of range"
     ]
    }
   ],
   "source": [
    "# 'test' (インデックスは0～3) に存在しないインデックス5を指定\n",
    "# 実行するとエラー(IndexError)が発生する\n",
    "print(msg[5])"
   ]
  },
  {
   "cell_type": "markdown",
   "metadata": {
    "id": "InGjfoss6YNH"
   },
   "source": [
    "**エラーメッセージの読み方と対処**.  \n",
    "プログラミングをしていると、意図せずエラーに遭遇することは避けられません。エラーが発生すると、特に初学者の方は戸惑ってしまうことが多いですが、慌てる必要はありません。\n",
    "\n",
    "エラー解決の最大のヒントは、Notebookやコンソールに表示されるエラーメッセージにあります。先ほどの例では、おそらく最後に IndexError: string index out of range というメッセージが表示されたはずです。これは「インデックスのエラー：文字列の範囲を超えています」という意味であり、指定したインデックス 5 が不適切であったことを示唆しています。\n",
    "\n",
    "エラーメッセージを読んでも意味が分からない場合は、表示されたエラーメッセージ全体をコピーして、そのままGoogleなどの検索エンジンで検索してみることを強くお勧めします。多くの場合、同じエラーで困った他の開発者による質問や解決策が見つかります。\n",
    "\n",
    "[ポイント]\n",
    "エラーが発生したら、まずはエラーメッセージを注意深く読みましょう。分からなければ、エラーメッセージで検索する習慣をつけましょう。"
   ]
  },
  {
   "cell_type": "markdown",
   "metadata": {
    "id": "XEHRaQ4I6gbk"
   },
   "source": [
    "**数値の扱いと演算**.  \n",
    "変数には文字列だけでなく、もちろん数値も格納できます。数値が格納された変数を使って、計算を行うことも可能です。\n",
    "\n",
    "ここで注意したいのが = の意味です。プログラミングにおける = は、数学の「等しい」という意味ではなく、「右側の値を左側の変数に代入する（入れる）」 という意味の代入演算子として使われます。"
   ]
  },
  {
   "cell_type": "code",
   "execution_count": null,
   "metadata": {
    "id": "5-xlf7K26oQN"
   },
   "outputs": [],
   "source": [
    "# 変数dataに数値1を代入\n",
    "data = 1\n",
    "print(data)"
   ]
  },
  {
   "cell_type": "code",
   "execution_count": null,
   "metadata": {
    "id": "67jQ3L7y6prs"
   },
   "outputs": [],
   "source": [
    "# 変数dataの現在の値(1)に10を加えた結果(11)を、再びdataに代入する\n",
    "data = data + 10\n",
    "print(data) # 結果は11になる"
   ]
  },
  {
   "cell_type": "markdown",
   "metadata": {
    "id": "4lQz5uEALjC_"
   },
   "source": []
  },
  {
   "cell_type": "markdown",
   "metadata": {
    "id": "MfZ3_AT9rNF0"
   },
   "source": [
    "### 1.2.3.2 リストと辞書型の基礎"
   ]
  },
  {
   "cell_type": "markdown",
   "metadata": {
    "id": "mCzNSEpOf7Nf"
   },
   "source": [
    "\n",
    "Pythonにおける「リスト」は、複数の値（数値や文字列など、異なるデータ型も混在可能）を順序付けて格納するための非常に便利なデータ構造です。多くのプログラミング言語で「配列」と呼ばれるものに相当し、データをまとめて扱いたい場合に広く用いられます。特に、大量のデータを処理することが多いデータ分析の分野では、リストは基本的ながら不可欠なツールと言えるでしょう。\n",
    "\n",
    "ここでは、簡単な数値のリストを作成する例を見てみましょう。Pythonでリストを作成するには、角括弧 [] で全体を囲み、中に含めたい要素をカンマ , で区切って記述します。\n",
    "\n",
    "リスト内の個々の要素にアクセスしたい場合は、「インデックス」と呼ばれる番号を使用します。このインデックスは 0 から始まる点に注意が必要です。つまり、リスト sample_list があった場合、最初の要素は sample_list[0]、3番目の要素は sample_list[2] のように指定して取り出します。\n",
    "\n",
    "以下のサンプルコードでは、まず print() 関数を使って作成したリスト my_data の内容全体を出力しています。次に type() 関数で my_data のデータ型を調べており、これがリスト型（<class 'list'>）であることを確認できます。最後に len() 関数を用いて、リストに含まれている要素の総数を取得しています。"
   ]
  },
  {
   "cell_type": "code",
   "execution_count": null,
   "metadata": {
    "id": "phwZt9tqgBah"
   },
   "outputs": [],
   "source": [
    "# 複数の整数を格納するリストを定義\n",
    "my_data = [5, 15, 25, 35, 45, 55]\n",
    "print(my_data)\n",
    "\n",
    "# 変数 my_data のデータ型を確認する\n",
    "print('変数の型:', type(my_data))\n",
    "\n",
    "# 特定の位置にある要素を取得する (インデックスは0から数えるため、[2]はリストの3番目の値)\n",
    "print('3番目の値:', my_data[2])\n",
    "\n",
    "# len()関数を使ってリスト内の要素数を取得・表示 (このリストには6個の要素がある)\n",
    "print('要素の総数:', len(my_data))"
   ]
  },
  {
   "cell_type": "markdown",
   "metadata": {
    "id": "JJfQMVOagT2A"
   },
   "source": [
    "なお、リスト内のそれぞれの要素を2倍したい場合、そのリストに2をかけても、リスト全体が、もう一度、繰り返されるだけなので、注意しましょう。それぞれの要素の値を2倍したいのなら、for文（後述の内包表記）を書くか、後の講義で説明するNumpyを使うと良いです。"
   ]
  },
  {
   "cell_type": "code",
   "execution_count": null,
   "metadata": {
    "id": "krnK-W0Kgczx"
   },
   "outputs": [],
   "source": [
    "# リスト自体が2倍になる\n",
    "my_data * 2"
   ]
  },
  {
   "cell_type": "markdown",
   "metadata": {
    "id": "3ry9kYnPg_0j"
   },
   "source": [
    "リストは作成した後も、その内容を動的に変更できる柔軟性を持っています。例えば、リストの末尾に新しい要素を加えたい場合は append() という操作がよく使われます。逆に、特定の要素をリストから削除したい場合には remove()（値で指定）や pop()（位置で指定）、del 文（位置で指定）などの方法があります。これらはリストオブジェクトが提供する機能（メソッド）であり、リストを自在に編集する際に役立ちます。これらの操作について詳しく知りたい場合は、それぞれのキーワードで調べてみることをお勧めします。"
   ]
  },
  {
   "cell_type": "code",
   "execution_count": null,
   "metadata": {
    "id": "qUxA61VmhCfE"
   },
   "outputs": [],
   "source": [
    "# リストを作成\n",
    "fruits = ['apple', 'banana', 'cherry']\n",
    "print(f\"初期リスト: {fruits}\")\n",
    "\n",
    "# append() で要素を末尾に追加\n",
    "fruits.append('orange')\n",
    "print(f\"append後 : {fruits}\")\n",
    "\n",
    "# remove() で指定した値の要素を削除\n",
    "fruits.remove('banana')\n",
    "print(f\"remove後 : {fruits}\")"
   ]
  },
  {
   "cell_type": "markdown",
   "metadata": {
    "id": "W1g008yhhYH_"
   },
   "source": [
    "Pythonには「辞書 (dictionary)」という、キー (key) と値 (value) のペアでデータを管理する便利なデータ型があります。リストが要素を順番（インデックス）で管理するのに対し、辞書は各値に対応する固有の「名前」（キー）を付けて管理するイメージです。\n",
    "\n",
    "辞書を作る際は、全体を波括弧 {} で囲み、キー: 値 という形式のペアをカンマ , で区切って記述します。キーには文字列を使うことが多いですが、整数なども指定可能です。値を取り出すときは、リストのように番号ではなく 辞書名[キー] のようにキーを指定します。例えば、「商品名」をキー、「価格」を値をとして関連付けてデータを保持したい場合などに役立ちます。\n",
    "\n",
    "以下の例では、いくつかの商品名をキー、在庫数を値とする辞書 stock_data を作成し、'orange' というキーを使ってその在庫数 30 を取り出しています。"
   ]
  },
  {
   "cell_type": "code",
   "execution_count": null,
   "metadata": {
    "id": "_N3Mocp0hbc2"
   },
   "outputs": [],
   "source": [
    "# 商品名(キー)と在庫数(値)の辞書を作成\n",
    "stock_data = {'apple': 50, 'banana': 25, 'orange': 30, 'grape': 40}\n",
    "\n",
    "# 'orange' の在庫数を表示\n",
    "print(stock_data['orange'])"
   ]
  },
  {
   "cell_type": "markdown",
   "metadata": {
    "id": "4dX1UUmMhmsY"
   },
   "source": [
    "作成済みの辞書に対しても、後から新しいキーと値のペアを追加したり、不要になったペアを削除したりする操作が可能です。これらの具体的な操作方法について、ぜひご自身で調べて試してみることをお勧めします。以下はコードサンプルです"
   ]
  },
  {
   "cell_type": "code",
   "execution_count": null,
   "metadata": {
    "id": "2tNuOachhsDe"
   },
   "outputs": [],
   "source": [
    "# 辞書の準備\n",
    "product_stock = {'pen': 10, 'notebook': 5}\n",
    "print(f\"操作前の在庫: {product_stock}\")\n",
    "\n",
    "# 新しい商品 'eraser' と在庫数を追加\n",
    "product_stock['eraser'] = 20\n",
    "print(f\"商品追加後: {product_stock}\")\n",
    "\n",
    "# 'notebook' の情報を削除 (delを使用)\n",
    "del product_stock['notebook']\n",
    "print(f\"商品削除後: {product_stock}\")"
   ]
  },
  {
   "cell_type": "markdown",
   "metadata": {
    "id": "a4IXmpt5rSPg"
   },
   "source": [
    "### 1.2.3.3 条件分岐と繰り返し\n",
    "Pythonプログラムは通常、コードが書かれた上から下へと順に処理が進みますが、この流れを制御し、特定の条件に応じて処理を変えたり、決まった操作を繰り返したりするための構文が存在します。"
   ]
  },
  {
   "cell_type": "markdown",
   "metadata": {
    "id": "nO1AJRZiiSS0"
   },
   "source": [
    "#### 比較演算子"
   ]
  },
  {
   "cell_type": "markdown",
   "metadata": {
    "id": "O6tABFBLiZdi"
   },
   "source": [
    "条件分岐や繰り返し処理の基本となるのが、式が「正しい（真、True）」か「間違っている（偽、False）」かを評価する方法です。ここでは、値と値を比較する演算子を見ていきましょう。\n",
    "\n",
    "まず、二つの値が等しいかを確認するには ==（イコール2つ）を使用します。以下の例では、数値の 5 と 5 が等しいか評価しており、結果は True (真) となります。"
   ]
  },
  {
   "cell_type": "code",
   "execution_count": null,
   "metadata": {
    "id": "BPgFVVPCigdd"
   },
   "outputs": [],
   "source": [
    "5 == 5"
   ]
  },
  {
   "cell_type": "markdown",
   "metadata": {
    "id": "IuV_ofDcijtr"
   },
   "source": [
    "一方、5 と 3 は等しくないため、False (偽) と評価されます。"
   ]
  },
  {
   "cell_type": "code",
   "execution_count": null,
   "metadata": {
    "id": "YokevgkhijVt"
   },
   "outputs": [],
   "source": [
    "5 == 3"
   ]
  },
  {
   "cell_type": "markdown",
   "metadata": {
    "id": "T_1zexXginno"
   },
   "source": [
    "次に、「等しくない」ことを示すには != を用います。5 と 3 は等しくないので、この式は正しいと判断され、True になります。"
   ]
  },
  {
   "cell_type": "code",
   "execution_count": null,
   "metadata": {
    "id": "EQdpGvwhipzv"
   },
   "outputs": [],
   "source": [
    "5 != 3"
   ]
  },
  {
   "cell_type": "markdown",
   "metadata": {
    "id": "wbY4C04rir9r"
   },
   "source": [
    "比較演算子には、等しいかどうかだけでなく、大小関係を比較するもの (> や < など) もあります。10 は 20 より小さいので、以下の式の評価結果は True です。"
   ]
  },
  {
   "cell_type": "code",
   "execution_count": null,
   "metadata": {
    "id": "HxW7J6s_itm7"
   },
   "outputs": [],
   "source": [
    "10 < 20"
   ]
  },
  {
   "cell_type": "markdown",
   "metadata": {
    "id": "lPQtsmQEivji"
   },
   "source": [
    "逆に 10 は 5 より小さいわけではないので、次の式は False となります。"
   ]
  },
  {
   "cell_type": "code",
   "execution_count": null,
   "metadata": {
    "id": "Wyc71iRyixY8"
   },
   "outputs": [],
   "source": [
    "10 < 5"
   ]
  },
  {
   "cell_type": "markdown",
   "metadata": {
    "id": "jO_gkNb-i0e_"
   },
   "source": [
    "**論理演算子による複数条件の組み合わせ**.   \n",
    "真偽の評価は、複数の条件を組み合わせて行うことも可能です。and 演算子は、与えられた複数の条件が 両方とも True の場合にのみ、全体として True と評価します。以下の例では、両方の条件が満たされるため True です。"
   ]
  },
  {
   "cell_type": "code",
   "execution_count": null,
   "metadata": {
    "id": "q-utldi4i5Qc"
   },
   "outputs": [],
   "source": [
    "(10 > 0) and (3 < 5)"
   ]
  },
  {
   "cell_type": "markdown",
   "metadata": {
    "id": "vHx4lODGi9hl"
   },
   "source": [
    "or 演算子は、与えられた条件のうち 少なくとも一つが True であれば、全体として True と評価します。次の例では、最初の条件 (10 < 0) は偽ですが、二番目の条件 (3 < 5) が真なので、結果は True となります。"
   ]
  },
  {
   "cell_type": "code",
   "execution_count": null,
   "metadata": {
    "id": "5TPVu9mujA9_"
   },
   "outputs": [],
   "source": [
    "(10 < 0) or (3 < 5)"
   ]
  },
  {
   "cell_type": "markdown",
   "metadata": {
    "id": "UpRIYqj8jCl4"
   },
   "source": [
    "最後に not 演算子は、ある条件の真偽 (True/False) を反転させます。10 > 0 自体は True ですが、not を適用することで False になります。"
   ]
  },
  {
   "cell_type": "code",
   "execution_count": null,
   "metadata": {
    "id": "-pHlXZuijDtB"
   },
   "outputs": [],
   "source": [
    "not (10 > 0)"
   ]
  },
  {
   "cell_type": "markdown",
   "metadata": {
    "id": "Qp_iZ6VMjFUo"
   },
   "source": [
    "ここで紹介した真偽の評価は、この後で学ぶ if 文（条件分岐）や繰り返し処理を制御する上で不可欠な要素ですので、その働きをよく理解しておきましょう。"
   ]
  },
  {
   "cell_type": "markdown",
   "metadata": {
    "id": "qiut_jeTjcaq"
   },
   "source": [
    "#### 条件分岐 (if文)"
   ]
  },
  {
   "cell_type": "markdown",
   "metadata": {
    "id": "rbtbJ2mYjeHo"
   },
   "source": [
    "真偽 (True/False) の判定方法がわかったところで、次は「条件分岐」について見ていきましょう。条件分岐とは、ある条件が満たされるかどうかによって、実行する処理を切り替える仕組みのことで、Pythonでは if 文を使います。\n",
    "\n",
    "if の後に指定した条件式（真偽を評価する式）の結果が True であれば、if 直下のコロン : から始まるインデントされたコードブロックが実行されます。もし条件式の結果が False であれば、else: の後に続くインデントされたブロックが実行されます。これにより、プログラムの実行経路を条件に応じて分岐させることができます。\n",
    "\n",
    "以下の例では、変数 age の値が 20 未満かどうかを判定しています。age < 20 という条件式が True ならば未成年向けのメッセージが、False ならば成人向けのメッセージが表示されます。\n",
    "\n",
    "Pythonのコードを書く上で重要な点として、if 文などの制御構文の後の行は、インデント（字下げ）を行う必要があります。一般的には半角スペース4つ分のインデントが用いられます。多くのエディタでは自動でインデントされますが、このインデントによって処理のブロック（範囲）が定義されることを覚えておいてください。\n",
    "\n",
    "if 条件式: や else: の行末にあるコロン : がブロックの開始を示し、インデントが続く範囲がそのブロックの処理対象となります。他の言語に見られるような end といったブロック終了のキーワードはPythonにはなく、インデントが元に戻った時点でブロックは終了したとみなされます。if-else ブロックの後にある処理は、条件分岐の結果に関わらず通常通り実行されます。"
   ]
  },
  {
   "cell_type": "code",
   "execution_count": null,
   "metadata": {
    "colab": {
     "base_uri": "https://localhost:8080/"
    },
    "executionInfo": {
     "elapsed": 23,
     "status": "ok",
     "timestamp": 1745397648904,
     "user": {
      "displayName": "灯リーダーズ",
      "userId": "07289622665267954108"
     },
     "user_tz": -540
    },
    "id": "uOOdgKqyjmgU",
    "outputId": "da60a00e-5a5a-4d50-8d9a-b5c13c7f338d"
   },
   "outputs": [
    {
     "name": "stdout",
     "output_type": "stream",
     "text": [
      "18歳は未成年です。\n",
      "年齢による判定が完了しました。\n"
     ]
    }
   ],
   "source": [
    "age = 18\n",
    "adult_age = 20\n",
    "\n",
    "# if文による条件分岐の開始\n",
    "if age < adult_age:\n",
    "    # 条件式の結果がTrueの場合 (ageがadult_age未満)\n",
    "    print('{0}歳は未成年です。'.format(age))\n",
    "else:\n",
    "    # 条件式の結果がFalseの場合 (ageがadult_age以上)\n",
    "    print('{0}歳は成人です。'.format(age))\n",
    "# ここでif-elseブロックは終了\n",
    "\n",
    "# 以下の行はif文の分岐結果に関係なく実行される\n",
    "print('年齢による判定が完了しました。')"
   ]
  },
  {
   "cell_type": "markdown",
   "metadata": {
    "id": "99bOwdBOjp3z"
   },
   "source": [
    "**文字列フォーマット (.format() メソッド)**.   \n",
    "先ほどの print 文で使用した '{0}歳は未成年です。'.format(age) という書き方は、文字列の中に変数などの値を埋め込むための「文字列フォーマット」という機能の一つです。\n",
    "\n",
    "この .format() メソッドを使った記法では、文字列中の {0} のような部分（プレースホルダー）に、.format() の括弧内に指定した値が順番に（0番目から）当てはめられます。この場合、{0} には format() の最初の引数である age の値が埋め込まれます。\n",
    "\n",
    ".format() の括弧内には、カンマ , で区切ることで複数の値を指定することも可能です。例えば、以下のように書くと {0} に item_name、{1} に count、{2} に total_price の値がそれぞれ挿入されます。なお、.format() のように関数やメソッドに渡す値のことを一般に「引数（ひきすう）」と呼びます。これは後の関数の説明でも再度触れます。"
   ]
  },
  {
   "cell_type": "code",
   "execution_count": null,
   "metadata": {
    "id": "0pfa4Zx2judz"
   },
   "outputs": [],
   "source": [
    "item_name = \"ペン\"\n",
    "count = 5\n",
    "total_price = 500\n",
    "\n",
    "print('商品{0}を{1}個注文しました。合計金額は{2}円です。'.format(item_name, count, total_price))"
   ]
  },
  {
   "cell_type": "markdown",
   "metadata": {
    "id": "CA4kdKV4jyCH"
   },
   "source": [
    "プレースホルダー ({0}, {1} など) には、表示する桁数や形式を指定するためのオプションを追加することも可能です。詳細は .format() メソッドについて調べてみると良いでしょう。"
   ]
  },
  {
   "cell_type": "markdown",
   "metadata": {
    "id": "bD9XaXBNj54K"
   },
   "source": [
    "#### range関数を使った繰り返しの指定"
   ]
  },
  {
   "cell_type": "markdown",
   "metadata": {
    "id": "8v9AYL8RkUkt"
   },
   "source": [
    "**range() 関数による連続する数値の生成**.  \n",
    "for ループで決まった回数の繰り返しや、連続する整数を扱いたい場合、それらの数値を直接リストとして書くのは手間がかかります。このような場合に便利なのが range() 関数です。range() は指定された範囲の連続した整数のシーケンス（数列のようなもの）を生成します。\n",
    "\n",
    "最もシンプルな range(N) という形では、0 から始まり N より一つ小さい N-1 までの整数が順に生成されることに注意してください。以下の例では range(6) を指定しており、ループ内で 0 から 5 までの整数が順番に出力されます。"
   ]
  },
  {
   "cell_type": "code",
   "execution_count": null,
   "metadata": {
    "id": "GS1rZabEkZUm"
   },
   "outputs": [],
   "source": [
    "# range(N) は 0 から N-1 までの整数を生成\n",
    "print(\"range(6) の実行結果:\")\n",
    "for number in range(6):\n",
    "    print(number)"
   ]
  },
  {
   "cell_type": "markdown",
   "metadata": {
    "id": "GeMR_IJBkbNB"
   },
   "source": [
    "**range() 関数の応用：開始値、終了値、ステップの指定**.   \n",
    "range() 関数では、括弧の中に「開始値」「終了値（この値は含まない）」「ステップ（いくつ飛ばすか）」の3つを指定することも可能です。以下の例では range(2, 15, 3) と記述しており、これは「2 から開始し、15 の手前まで、3 ずつ値を増やしながら」数値を生成することを意味します。結果として 2, 5, 8, 11, 14 が順に出力されます。"
   ]
  },
  {
   "cell_type": "markdown",
   "metadata": {
    "id": "CA82488pkuxK"
   },
   "source": [
    "#### zip関数"
   ]
  },
  {
   "cell_type": "markdown",
   "metadata": {
    "id": "YBPRfop7kzqv"
   },
   "source": [
    "**zip() 関数による複数リストの同時処理**.   \n",
    "for ループと組み合わせてよく利用される関数の一つに zip() があります。zip() 関数を使うと、複数のリスト（や他の繰り返し可能なオブジェクト）から、それぞれの同じ位置にある要素を同時に取り出して処理することができます。\n",
    "\n",
    "例えば、生徒の名前が格納されたリスト students と、それぞれのテストの点数が格納されたリスト scores があるとしましょう。この二つのリストから、一人目の生徒の名前と点数、二人目の生徒の名前と点数、というように、対応する要素をペアにして順番に扱いたい場合に zip() は役立ちます。\n",
    "\n",
    "以下のコードは、zip() を使って students リストと scores リストから対応する名前と点数を同時に取り出し、表示する例です。"
   ]
  },
  {
   "cell_type": "code",
   "execution_count": null,
   "metadata": {
    "id": "nh447zCkkuR8"
   },
   "outputs": [],
   "source": [
    "students = ['Alice', 'Bob', 'Charlie']\n",
    "scores = [85, 92, 78]\n",
    "\n",
    "# zipを使って名前と点数をペアで取り出す\n",
    "print(\"テスト結果:\")\n",
    "for student_name, score_value in zip(students, scores):\n",
    "    print(f'{student_name}さんの点数は {score_value}点です。')"
   ]
  },
  {
   "cell_type": "markdown",
   "metadata": {
    "id": "Nqslscw6k4aE"
   },
   "source": [
    "このように、複数のリスト間で要素のインデックス（位置）が対応していて、それらをセットにして扱いたい場合に zip() 関数は非常に便利です。"
   ]
  },
  {
   "cell_type": "markdown",
   "metadata": {
    "id": "OAfMHGrDlHRN"
   },
   "source": [
    "#### while文による繰り返し"
   ]
  },
  {
   "cell_type": "markdown",
   "metadata": {
    "id": "W2u3uS2NlMFV"
   },
   "source": [
    "Pythonで繰り返し処理を行うもう一つの方法として while 文があります。while 文は、指定された条件式が True である限り、その後のインデントされたブロック内の処理を繰り返し実行し続けます。条件式が False と評価された時点でループは終了します。\n",
    "\n",
    "次の例では、変数 count が 5 以下の間、その値を表示し、count に 1 を加える処理を繰り返します。count が 6 になった時点で条件式 count <= 5 が False となり、ループが終了します。if 文や for 文と同様に、while 条件式: の行末のコロン : とインデントが処理ブロックの範囲を示します。"
   ]
  },
  {
   "cell_type": "code",
   "execution_count": null,
   "metadata": {
    "id": "vySAwfEolNTK"
   },
   "outputs": [],
   "source": [
    "# カウンター変数を初期化\n",
    "count = 1\n",
    "\n",
    "# whileループを開始 (countが5以下の間)\n",
    "while count <= 5:\n",
    "    print(f'現在のカウント: {count}')\n",
    "    count = count + 1 # countの値を1増やす (count += 1 とも書けます)\n",
    "# whileループの終わり\n",
    "\n",
    "# ループ終了後のcountの値を表示\n",
    "print('ループ終了。最後のカウントは {0} です'.format(count))"
   ]
  },
  {
   "cell_type": "markdown",
   "metadata": {
    "id": "T8f5OK2VlPDY"
   },
   "source": [
    "**break 文によるループの中断**.   \n",
    "ループの処理中に、特定の条件が満たされた場合に、ループ全体を強制的に終了させたい場合があります。このような場合には break 文を使用します。break が実行されると、その時点でループから抜け出し、ループ構文の次の行に処理が移ります。\n",
    "\n",
    "以下の例では、変数 value が 7 になった場合にメッセージを表示して break し、while ループを途中で抜けています。なお、if 文に対応する else 節は必須ではありません。pass は「何もしない」という命令で、文法的に何か書く必要があるが処理内容がない場合などに使われますが、この例の else のように、何も処理がなければ else 自体省略可能です。\n",
    "\n"
   ]
  },
  {
   "cell_type": "code",
   "execution_count": null,
   "metadata": {
    "id": "ORGaX8gqlSVZ"
   },
   "outputs": [],
   "source": [
    "# 変数を初期化\n",
    "value = 0\n",
    "\n",
    "# whileループを開始 (valueが10未満の間)\n",
    "while value < 10:\n",
    "    value = value + 1\n",
    "    print(f'現在の値: {value}')\n",
    "\n",
    "    # if文でループ中断条件をチェック\n",
    "    if value == 7:\n",
    "        print('値が7になったので中断します。')\n",
    "        break # ループを抜ける\n",
    "    # else: pass # このelseブロックは無くても動作は同じ\n",
    "# whileループの終わり\n",
    "\n",
    "print('ループ処理完了。最後の値は {0} です'.format(value))"
   ]
  },
  {
   "cell_type": "markdown",
   "metadata": {
    "id": "603fEXAElVGh"
   },
   "source": [
    "**continue 文による現在の回のスキップ**.   \n",
    "break がループ全体を終了させるのに対し、continue 文は、ループの現在の回の残りの処理をスキップし、すぐに次の繰り返し（while の場合は条件式の再評価）に進むために使います。\n",
    "\n",
    "以下の例では、number が 3 の倍数の場合にメッセージを表示して continue を実行し、その回の print('処理実行...') をスキップしています。3 の倍数でない場合は、continue が実行されず、print('処理実行...') が表示されます。ループ自体は number が 10 に達するまで続行されます。"
   ]
  },
  {
   "cell_type": "code",
   "execution_count": null,
   "metadata": {
    "id": "sFSFLcCflZaP"
   },
   "outputs": [],
   "source": [
    "# 変数を初期化\n",
    "number = 0\n",
    "\n",
    "# whileループを開始 (numberが10未満の間)\n",
    "while number < 10:\n",
    "    number = number + 1\n",
    "\n",
    "    # if文で3の倍数かチェック\n",
    "    if number % 3 == 0: # 3で割り切れる場合\n",
    "        print(f'{number} は3の倍数なので今回の処理をスキップ。')\n",
    "        continue # この回の残りをスキップして次の繰り返しへ\n",
    "\n",
    "    # このprint文は3の倍数でない場合のみ実行される\n",
    "    print(f'{number}: 処理実行...')\n",
    "# whileループの終わり\n",
    "\n",
    "print('ループ完了。最後の値は {0} です'.format(number))"
   ]
  },
  {
   "cell_type": "markdown",
   "metadata": {
    "id": "mH-EPGcHrjL2"
   },
   "source": [
    "### 1.2.3.4 関数の基礎"
   ]
  },
  {
   "cell_type": "markdown",
   "metadata": {
    "id": "4MnCQPBKl1Dq"
   },
   "source": [
    "**関数：処理のまとめ**.  \n",
    "関数とは、特定の一連の処理手順をひとまとめにし、名前を付けたものです。関数を定義しておくと、同じような処理をプログラムの別の場所で実行したいときに、その名前を呼び出すだけで簡単に再利用できます。また、処理が部品化されるため、コード全体の見通しが良くなり、後で修正や改善を行う際にも便利になります。\n",
    "\n",
    "**関数の定義と呼び出し**.  \n",
    "以下の calculate_sum 関数は、二つの数値 (num1 と num2) を受け取り（これらを入力値として「引数（ひきすう）」と呼びます）、その合計を計算して結果を返す（この返される結果を「返り値（かえりち）」または「戻り値（もどりち）」と言います）例です。\n",
    "\n",
    "関数を定義するには、def キーワードに続けて関数名、そして括弧 () 内に引数を記述します（引数がない場合は空の括弧）。コロン : の後に、インデントされたブロック内に関数の処理内容を記述し、結果を返す場合は return 文を使用します。"
   ]
  },
  {
   "cell_type": "code",
   "execution_count": null,
   "metadata": {
    "id": "jPmBenUzl5yo"
   },
   "outputs": [],
   "source": [
    "# 二つの数値の合計を計算して返す関数\n",
    "def calculate_sum(num1, num2):\n",
    "    total = num1 + num2\n",
    "    return total"
   ]
  },
  {
   "cell_type": "markdown",
   "metadata": {
    "id": "IxAo5Ks_l7YF"
   },
   "source": [
    "定義した関数を使用することを「関数を呼び出す」と言います。関数を呼び出すには、関数名の後に括弧 () をつけ、引数が必要な場合は括弧内に適切な値を指定します。以下の例では、calculate_sum 関数に引数として 5 と 7 を渡して呼び出し、その返り値（合計値 12）を変数 sum_result に格納しています。"
   ]
  },
  {
   "cell_type": "code",
   "execution_count": null,
   "metadata": {
    "id": "WtFRrbQ8l9oZ"
   },
   "outputs": [],
   "source": [
    "# calculate_sum関数を呼び出し、結果を表示\n",
    "sum_result = calculate_sum(5, 7)\n",
    "print(f'5と7の合計は: {sum_result}')"
   ]
  },
  {
   "cell_type": "markdown",
   "metadata": {
    "id": "RSzlmL3tmBLq"
   },
   "source": [
    "**引数や返り値がない関数**.  \n",
    "関数は必ずしも引数や返り値を持つ必要はありません。特定のメッセージを表示するだけなど、入力や出力が不要な処理をまとめることもできます。"
   ]
  },
  {
   "cell_type": "code",
   "execution_count": null,
   "metadata": {
    "id": "Ai5-w0TamFVp"
   },
   "outputs": [],
   "source": [
    "# 固定の挨拶メッセージを表示する関数 (引数・返り値なし)\n",
    "def display_greeting():\n",
    "    print('Hello! これは関数からのメッセージです。')"
   ]
  },
  {
   "cell_type": "markdown",
   "metadata": {
    "id": "3_uxDDsjmHdB"
   },
   "source": [
    "このような引数がない関数を呼び出す場合は、関数名の後に空の括弧 () を記述します。以下の呼び出しにより、display_greeting 関数内の print 文が実行されます。"
   ]
  },
  {
   "cell_type": "code",
   "execution_count": null,
   "metadata": {
    "id": "7SwiylGnmIv4"
   },
   "outputs": [],
   "source": [
    "# display_greeting関数を呼び出す\n",
    "display_greeting()"
   ]
  },
  {
   "cell_type": "markdown",
   "metadata": {
    "id": "PnUConnimN5e"
   },
   "source": [
    "**再帰関数：自分自身を呼び出す関数**.   \n",
    "関数定義の中には、その関数自身を呼び出す処理を含むものがあります。これを「再帰」と呼びます。再帰は特定の種類の問題を簡潔に表現できる場合があります。\n",
    "\n",
    "以下の factorial 関数は、与えられた非負整数 n の階乗（n! = n * (n-1) * ... * 1、ただし 0! = 1）を計算する例です。n が 0 でない場合、n に n-1 の階乗（factorial(n - 1) によって計算）を掛ける、という形で自身を呼び出しています。n が 0 になると 1 を返し、再帰呼び出しが終了します（これをベースケースと呼びます）。"
   ]
  },
  {
   "cell_type": "code",
   "execution_count": null,
   "metadata": {
    "id": "LNkazfhYmV66"
   },
   "outputs": [],
   "source": [
    "# 再帰を使って階乗を計算する関数の例\n",
    "def factorial(n):\n",
    "    if n == 0: # ベースケース (再帰の終了条件)\n",
    "        return 1\n",
    "    else: # 再帰ステップ (自身を呼び出す)\n",
    "        return n * factorial(n - 1)"
   ]
  },
  {
   "cell_type": "markdown",
   "metadata": {
    "id": "OOksbh3lmVly"
   },
   "source": [
    "この factorial 関数に引数 5 を与えて実行すると、5! = 5 * 4 * 3 * 2 * 1 = 120 が計算されます。"
   ]
  },
  {
   "cell_type": "code",
   "execution_count": null,
   "metadata": {
    "id": "uf8VfyUgmYxe"
   },
   "outputs": [],
   "source": [
    "# factorial関数を呼び出して5の階乗を計算し表示\n",
    "result_factorial = factorial(5)\n",
    "print(f'5の階乗は: {result_factorial}')"
   ]
  },
  {
   "cell_type": "markdown",
   "metadata": {
    "id": "uDWdg2sWmaod"
   },
   "source": [
    "注意： この階乗計算のように再帰を使った処理は、考え方を簡潔に表現できる一方で、特に再帰呼び出しが深くなる（何度も繰り返される）場合、処理効率が非常に悪くなることがあります。大きな値を引数として渡すと、計算に非常に時間がかかったり、エラーが発生したりする可能性があるので注意が必要です。プログラミングでは、同じ計算結果を得るためにも、再帰を使わないループ処理など、より効率的なアルゴリズム（処理手順）が存在することが多く、状況に応じて適切な方法を選択することが重要です。"
   ]
  },
  {
   "cell_type": "markdown",
   "metadata": {
    "id": "UI0oeHl9msZK"
   },
   "source": [
    "#### 無名関数 (ラムダ式) と map 関数"
   ]
  },
  {
   "cell_type": "markdown",
   "metadata": {
    "id": "Ywntobyqmv6G"
   },
   "source": [
    "**無名関数 (ラムダ式)**.   \n",
    "Pythonの関数には「無名関数」または「ラムダ式」と呼ばれる、より簡潔な関数の記述方法があります。これは文字通り名前を持たない関数で、主にその場で短い処理を定義して使いたい場合に便利です。\n",
    "\n",
    "無名関数を定義するには lambda キーワードを使用します。lambda の後に引数を指定し、コロン : を挟んで、その引数を使った処理（返り値となる式）を記述します。\n",
    "\n",
    "例えば、以前に作成した二つの数を足し合わせる add_numbers 関数は、通常は def を使って以下のように定義し、呼び出しました。"
   ]
  },
  {
   "cell_type": "code",
   "execution_count": null,
   "metadata": {
    "id": "pCIst7uTm0Lq"
   },
   "outputs": [],
   "source": [
    "# 通常の関数定義\n",
    "def add_numbers(x, y):\n",
    "    return x + y\n",
    "\n",
    "# 呼び出し\n",
    "result = add_numbers(5, 7)\n",
    "print(f'通常の関数での結果: {result}')"
   ]
  },
  {
   "cell_type": "markdown",
   "metadata": {
    "id": "votOzxPhm0lB"
   },
   "source": [
    "これと同じ処理をラムダ式で記述し、その場で呼び出すと以下のようになります。"
   ]
  },
  {
   "cell_type": "code",
   "execution_count": null,
   "metadata": {
    "id": "7m5rGR8om3KX"
   },
   "outputs": [],
   "source": [
    "# ラムダ式で定義し、その場で呼び出す\n",
    "result_lambda = (lambda x, y: x + y)(5, 7)\n",
    "print(f'ラムダ式での結果: {result_lambda}')"
   ]
  },
  {
   "cell_type": "markdown",
   "metadata": {
    "id": "KqRzksfEm6Rx"
   },
   "source": [
    "この lambda x, y: の部分が、通常の関数定義 def add_numbers(x, y): の引数部分に相当し、コロン : の後の x + y が return x + y の処理内容に相当します。\n",
    "\n"
   ]
  },
  {
   "cell_type": "markdown",
   "metadata": {
    "id": "Oo7dD27Hm774"
   },
   "source": [
    "**map 関数との組み合わせ**.  \n",
    "ラムダ式は、リストなどのシーケンス（繰り返し可能なオブジェクト）の各要素に対して、同じ簡単な操作を適用したい場合に特に役立ちます。\n",
    "\n",
    "シーケンスの各要素に関数を適用する一般的な方法として map() 関数があります。map() は、第一引数に関数、第二引数にシーケンスを取り、シーケンス内の各要素に対してその関数を適用した結果を生成します（技術的にはイテレータと呼ばれるものを返します）。\n",
    "\n",
    "例として、文字列のリストがあり、各文字列を大文字に変換したい場合を考えます。まず、文字列を大文字にする通常の関数 to_uppercase を定義します。"
   ]
  },
  {
   "cell_type": "code",
   "execution_count": null,
   "metadata": {
    "id": "YgGnDMcAm-0e"
   },
   "outputs": [],
   "source": [
    "# 文字列を大文字にする関数\n",
    "def to_uppercase(s):\n",
    "    return s.upper()"
   ]
  },
  {
   "cell_type": "markdown",
   "metadata": {
    "id": "HU2IZe1PnDDl"
   },
   "source": [
    "この関数をリスト words = ['python', 'is', 'fun'] の各要素に適用する場合、for ループを使うと以下のようになります。\n",
    "\n"
   ]
  },
  {
   "cell_type": "code",
   "execution_count": null,
   "metadata": {
    "id": "-VjE23yBnANg"
   },
   "outputs": [],
   "source": [
    "words = ['python', 'is', 'fun']\n",
    "print(\"\\nforループでの処理:\")\n",
    "for word in words:\n",
    "    print(to_uppercase(word))"
   ]
  },
  {
   "cell_type": "markdown",
   "metadata": {
    "id": "dMs8xn3ynFPr"
   },
   "source": [
    "map() 関数を使うと、この処理をより簡潔に書けます。map() の結果はそのままではリストではないため、通常 list() 関数を使ってリストに変換します。"
   ]
  },
  {
   "cell_type": "code",
   "execution_count": null,
   "metadata": {
    "id": "IMhepG-LnBgP"
   },
   "outputs": [],
   "source": [
    "print(\"\\nmap関数(通常関数使用)での処理:\")\n",
    "# map()の結果はイテレータなのでlist()でリストに変換して表示\n",
    "uppercase_words = list(map(to_uppercase, words))\n",
    "print(uppercase_words)"
   ]
  },
  {
   "cell_type": "markdown",
   "metadata": {
    "id": "lNc-U0QenHL-"
   },
   "source": [
    "しかし、大文字変換のような単純な処理のためだけに to_uppercase 関数をわざわざ def で定義するのは少し冗長に感じるかもしれません。ここでラムダ式が役立ちます。map() の第一引数に関数名ではなく、ラムダ式を直接記述することができます。"
   ]
  },
  {
   "cell_type": "code",
   "execution_count": null,
   "metadata": {
    "id": "P_zQYUb6nIbo"
   },
   "outputs": [],
   "source": [
    "print(\"\\nmap関数(ラムダ式使用)での処理:\")\n",
    "# mapの第一引数にラムダ式を直接記述\n",
    "uppercase_words_lambda = list(map(lambda s: s.upper(), words))\n",
    "print(uppercase_words_lambda)\n",
    "# 出力結果: ['PYTHON', 'IS', 'FUN']"
   ]
  },
  {
   "cell_type": "markdown",
   "metadata": {
    "id": "HEGayVbZnKxn"
   },
   "source": [
    "このように map() 関数とラムダ式を組み合わせる方法は、データ分析ライブラリのPandasなどでデータフレームの列データに対して一括で変換処理を行う際など、データ加工の場面で頻繁に利用されます。現時点では大きなメリットを感じにくいかもしれませんが、後々非常に役立つテクニックなので、このような使い方があることを覚えておいてください。\n",
    "\n",
    "他にも、filter() 関数（条件に合う要素だけを抽出する）のように、関数を引数として利用する便利な関数がありますので、興味があれば調べてみてください。"
   ]
  },
  {
   "cell_type": "markdown",
   "metadata": {
    "id": "T9b4w9K-rmTe"
   },
   "source": [
    "## 1.3 演習問題\n",
    "\n",
    "このセクションでは、Week 1の学習内容に関する演習問題とその取り組み方、提出に関する指示をまとめます。\n",
    "\n",
    "\n",
    "\n"
   ]
  },
  {
   "cell_type": "markdown",
   "metadata": {
    "id": "U34-HMMHew-1"
   },
   "source": [
    "### 想定されるディレクトリ構成\n",
    "\n",
    "今後の演習を進めるにあたり、GitHubリポジトリ内を以下のような構成で管理することを推奨します。今回の演習1でこの基本形を作成します。\n",
    "\n",
    "```plaintext\n",
    "your-repository-name/  <-- あなたのリポジトリのルートディレクトリ\n",
    "│\n",
    "├── .gitignore         <-- (任意) Pythonプロジェクト用の .gitignore ファイル\n",
    "│\n",
    "├── README.md          <--  **ルートREADME:** リポジトリ全体の説明と各週へのリンクを記載\n",
    "│\n",
    "├── week1/             <--  **第1週**の成果物を入れるディレクトリ\n",
    "│   │\n",
    "│   ├── README.md      <--   **week1のREADME:** この週の Colab Notebook へのリンクを記載\n",
    "│   │\n",
    "│   └── hello_world.ipynb <--  Week 1 で作成した Notebook ファイル\n",
    "│   └── (fizzbuzz_step1.ipynb など、他の演習ファイル)\n",
    "│\n",
    "├── week2/             <--  **第2週**の成果物を入れるディレクトリ\n",
    "│   │\n",
    "│   ├── README.md      <--   **week2のREADME:** Colabリンク記載\n",
    "│   │\n",
    "│   └── ... (Week 2 のファイル)\n",
    "│\n",
    "├── ... (同様に week3 から week11 まで続く) ...\n",
    "│\n",
    "└── week12/            <--  **第12週**（最終週）の成果物を入れるディレクトリ\n",
    "    │\n",
    "    ├── README.md      <--   **week12のREADME:** Colabリンク記載\n",
    "    │\n",
    "    └── final_project.ipynb <-- 最終プロジェクトの Notebook など\n",
    "    └── ...\n",
    "\n",
    "```\n",
    "**ルートREADME.mdの内容（テンプレート）**  \n",
    "リポジトリのルートに配置するREADME.mdには、以下のような内容を記載し、各週の成果へアクセスしやすくしておきましょう。（演習1で作成・Pushします）\n",
    "\n",
    "```\n",
    "# AI講座 演習リポジトリ\n",
    "\n",
    "このリポジトリは、AI講座（仮称）の各週の演習課題やプロジェクトファイルを管理するためのものです。\n",
    "\n",
    "## 各週の演習へのリンク\n",
    "\n",
    "以下は、各週のディレクトリへのリンクです。各ディレクトリ内のREADMEファイルに、演習で作成したGoogle Colaboratory Notebookへのリンクが記載されています。\n",
    "\n",
    "* [Week 1: Python基礎・環境構築](./week1/)\n",
    "* [Week 2: Python基礎 発展・Git応用](./week2/)\n",
    "* [Week 3: データ分析 - NumPy / Pandas基礎](./week3/)\n",
    "* [Week 4: データ分析 - 可視化 / EDA](./week4/)\n",
    "* [Week 5: AIプロジェクト - MNIST (PyTorch基礎)](./week5/)\n",
    "* [Week 6: AIプロジェクト - 画像処理基礎](./week6/)\n",
    "* [Week 7: AIプロジェクト - 自然言語処理基礎](./week7/)\n",
    "* [Week 8: 最終プロジェクト - 計画・設計](./week8/)\n",
    "* [Week 9: 最終プロジェクト - 開発](./week9/)\n",
    "* [Week 10: 最終プロジェクト - 開発・テスト](./week10/)\n",
    "* [Week 11: 最終プロジェクト - 発表準備・デモ](./week11/)\n",
    "* [Week 12: 最終成果物・まとめ](./week12/)\n",
    "\n",
    "## リポジトリの使い方\n",
    "\n",
    "1.  各週の学習が終わったら、対応する `weekX` ディレクトリ内に演習で作成した `.ipynb` ファイルなどを配置します。\n",
    "2.  作成したNotebookはGoogle Colaboratoryで**共有設定（リンクを知っている全員が閲覧者）**を行い、共有リンクを取得します。\n",
    "3.  対応する `weekX` ディレクトリ内に `README.md` を作成（または編集）し、取得したColabリンクを記載します。\n",
    "4.  変更内容（`.ipynb`ファイルと`README.md`ファイル）を `git add`, `git commit`, `git push` して、このGitHubリポジトリに反映させます。\n",
    "\n",
    "---\n",
    "\n",
    "**Author:** (ご自身のGitHubアカウント名などを任意で記載)\n",
    "```\n",
    "\n"
   ]
  },
  {
   "cell_type": "markdown",
   "metadata": {
    "id": "rfKVYqsze2hj"
   },
   "source": [
    "### 課題の提出について（Week 1）\n",
    "\n",
    "Week 1の演習課題として、以下のものに取り組みます。提出要件を確認してください。\n",
    "\n",
    "**【必須課題】**\n",
    "\n",
    "以下の課題は、**必ず**実施し、指定された方法（GitHubリポジトリへのPushとColabリンクの共有設定）で提出（アクセス可能に）してください。\n",
    "\n",
    "1.  **演習1:** 初めてのNotebook作成とGitHub/Colab連携 (セクション `1.2.3.1` 参照)\n",
    "    * `hello_world.ipynb` と `week1/README.md` (Colabリンク記載) を作成し、リポジトリにPushする。\n",
    "    * ルートの `README.md` も作成・Pushする。  \n",
    "    [参考レポジトリはこちら！！](https://github.com/ErikaKitamura/tomoshibi-AIseminar-1q)\n",
    "2.  **演習2:** 【ステップ1：基礎編】3の倍数だけ特別扱いリストを作ろう！ (FizzBuzz課題より)\n",
    "    * 新しいNotebook（例: `fizzbuzz_step1.ipynb`）で実装し、GitHubにPushする。\n",
    "    * `week1/README.md` に、このNotebookへのColab共有リンクも追記し、README自体も再度Pushする。\n",
    "\n",
    "**【任意課題】**\n",
    "\n",
    "以下の課題は**任意**です。必須ではありませんが、余裕のある方、さらに理解を深めたい方はぜひ挑戦してみてください。\n",
    "\n",
    "3.  **演習3:** 【ステップ2：応用編】FizzBuzz問題を完成させよう！\n",
    "    * 演習2とは別のNotebook（例: `fizzbuzz_step2.ipynb`）で実装し、同様にGitHubにPushし、`week1/README.md` にColabリンクを追記する。\n",
    "4.  **演習4:** （任意）チャレンジ：FizzBuzzを関数化してみよう！\n",
    "    * 演習3のNotebook内で関数化して同様にGitHubにPushし、`week1/README.md` にColabリンクを追記する。\n",
    "\n",
    "**提出方法の確認:**\n",
    "\n",
    "* 課題の提出は、ご自身のGitHubリポジトリの該当週のディレクトリ（今回は `week1/`）に必要なファイル (`.ipynb` と `README.md`) が含まれており、`week1/README.md` に記載されたColabリンクが**「リンクを知っている全員が編集者」**の設定で正しくアクセスできるようにしてください\n",
    "\n",
    "不明点があれば、遠慮なく質問してください。\n",
    "\n",
    "---\n"
   ]
  },
  {
   "cell_type": "markdown",
   "metadata": {
    "id": "W_dpiKCPGmdp"
   },
   "source": [
    "#### 1.2.3.1 演習問題1：初めてのNotebook作成とGitHub/Colab連携\n",
    "\n",
    "**目的:**\n",
    "\n",
    "* 簡単なJupyter Notebook (Google Colab) を作成し、基本的なコードを実行できる。\n",
    "* 作成したNotebookをGoogle Driveに保存し、共有可能なリンクを取得できる。\n",
    "* **重要:** Colabの共有設定を適切に行い、リンクを知っている全員が閲覧できるようにする。\n",
    "* GitHubリポジトリに、Notebookファイル本体と、Colabへのリンクを記載したREADMEファイルを保存（Push）する流れを体験する。\n",
    "* 今後の演習成果物を管理するためのリポジトリ構造の基礎を作る。\n",
    "\n",
    "**課題内容:**\n",
    "\n",
    "1.  **GitHubリポジトリの準備:**\n",
    "    * もし、このAI講座用にまだGitHubリポジトリを作成していなければ、新しくパブリックリポジトリを作成してください。リポジトリ名は `ai-course-practice` や `my-ai-learning` など、ご自身で分かりやすい名前をつけましょう。\n",
    "    * 作成したリポジトリを、ご自身のPCの分かりやすい場所に `git clone` してください。\n",
    "\n",
    "2.  **ディレクトリの作成:**\n",
    "    * `clone` したリポジトリのフォルダ内に、第1回目の演習用として `week1` という名前のディレクトリ（フォルダ）を作成してください。\n",
    "\n",
    "3.  **Jupyter Notebook (Google Colab) の作成:**\n",
    "    * Google Colaboratory を開き、新しいNotebookを作成します。ファイル名は `hello_world.ipynb` としてください。\n",
    "    * **推奨:** Google Drive内の分かりやすい場所（例: `マイドライブ > Colab Notebooks > ai-course-practice > week1` のようなフォルダ構造）に保存されるようにしてください。（Colabの `ファイル` > `ドライブにコピーを保存` など）\n",
    "\n",
    "4.  **\"Hello World!\"の実装:**\n",
    "    * 作成した `hello_world.ipynb` を開き、最初のセルに以下のPythonコードを入力し、実行して `'Hello World!'` と表示されることを確認してください。\n",
    "        ```python\n",
    "        print(\"Hello World!\")\n",
    "        ```\n",
    "    * Notebookを忘れずに保存してください (`ファイル` > `保存` または `Ctrl+S`/`Cmd+S`)。\n",
    "\n",
    "5.  **Google Colab 共有リンクの取得と設定:**\n",
    "    * Colabの画面右上の「共有」ボタンをクリックします。\n",
    "    * 「一般的なアクセス」の項目を「**リンクを知っている全員**」に変更します。\n",
    "    * その右側の役割が「**閲覧者**」になっていることを確認します。（編集権限は不要です）\n",
    "    * 「リンクをコピー」ボタンをクリックして、共有可能なリンクを取得します。\n",
    "\n",
    "6.  **週ごとのREADMEファイルの作成:**\n",
    "    * PCの `clone` したリポジトリ内にある `week1` ディレクトリの中に、**新しく `README.md` という名前のファイルを作成**してください。\n",
    "    * 作成した `week1/README.md` に、以下のような形式で、先ほどコピーしたColabへのリンクを記載します。（ファイル名や説明は適宜変更してください）\n",
    "        ```markdown\n",
    "        # Week 1 演習\n",
    "\n",
    "        - [Hello World Notebook (Colab)](ここにコピーしたColabの共有リンクを貼り付け)\n",
    "        ```\n",
    "\n",
    "7.  **Gitによるコミットとプッシュ:**\n",
    "    * ターミナル（またはコマンドプロンプト、Git Bashなど）を開き、`clone` したリポジトリの**ルートディレクトリ**に移動します。\n",
    "    * 以下のGitコマンドを順番に実行し、作成したNotebookファイル（`.ipynb`）**と**、Colabリンクを記載した週ごとのREADMEファイル（`week1/README.md`）の両方をGitHubリポジトリにアップロード（Push）してください。\n",
    "        ```bash\n",
    "        # 変更されたファイルを確認 (week1/hello_world.ipynb と week1/README.md が表示されるはず)\n",
    "        git status\n",
    "\n",
    "        # week1 ディレクトリ以下の全ての変更をステージングエリアに追加\n",
    "        git add week1/\n",
    "        # または git add .\n",
    "\n",
    "        # 変更内容をコミット (メッセージは分かりやすく)\n",
    "        git commit -m \"Add Week 1 Hello World (Notebook and Colab link README)\"\n",
    "\n",
    "        # GitHubリポジトリに変更をアップロード\n",
    "        git push origin main # または 'master' など、ご自身のブランチ名\n",
    "        ```\n",
    "\n",
    "8.  **GitHubおよびColabでの確認:**\n",
    "    * ご自身のGitHubリポジトリページをWebブラウザで開き、`week1` ディレクトリの中に `hello_world.ipynb` **と** `README.md` が正しくアップロードされていることを確認してください。\n",
    "    * GitHub上で `week1/README.md` を開き、記載したColabへのリンクをクリックします。\n",
    "    * **重要:** Colabのノートブックが**ログインを求められることなく**正しく表示され、「Hello World!」のコードと実行結果（もしあれば）が閲覧できることを確認してください。もしアクセス権限を求められる場合は、ステップ5の共有設定を見直してください。\n",
    "\n",
    "**提出物:**\n",
    "\n",
    "* この課題については、上記のステップが完了し、GitHub上でファイルが確認でき、**Colabリンクが正しく機能すること**を確認できればOKです。\n",
    "\n",
    "**注意事項:**\n",
    "\n",
    "* **Google Colabの共有設定は、「リンクを知っている全員」が「編集者」となるように必ず設定してください。** これが正しくないと、他の人がリンクを開けません。\n",
    "* 今後の演習でも同様に、Notebookを作成したらColabで共有設定を行い、リンクを対応する週のREADMEに記載し、NotebookファイルとREADMEファイルの両方をGitHubにPushする、という流れで進めます。\n",
    "---"
   ]
  },
  {
   "cell_type": "markdown",
   "metadata": {
    "id": "uKciHDtRrw_K"
   },
   "source": [
    "#### 1.2.3.2 演習問題2\n",
    "\n",
    "#### Python基礎力アップ課題：FizzBuzzに挑戦！\n",
    "\n",
    "ここまでの学習内容（変数、リスト、if文、forループ、関数）を使って、プログラミングの定番問題「FizzBuzz」に挑戦してみましょう！ステップを2段階に分けて進めます。\n",
    "\n",
    "\n",
    "### 【ステップ1：基礎編】3の倍数だけ特別扱いリストを作ろう！\n",
    "\n",
    "**課題内容：**\n",
    "\n",
    "1.  1から**20まで**の整数を順番にチェックします。\n",
    "2.  もし、その数字が**3で割り切れる**場合は、結果を格納するためのリストに文字列 `\"Multiple of 3\"` を追加します。\n",
    "3.  もし、その数字が**3で割り切れない**場合は、結果を格納するためのリストに**その数字自体**を追加します。\n",
    "4.  最後に、完成したリスト全体を `print()` で表示してください。\n",
    "\n",
    "**期待される出力イメージ（リストの中身）：**\n",
    "```\n",
    "[1, 2, 'Multiple of 3', 4, 5, 'Multiple of 3', 7, 8, 'Multiple of 3', 10, 11, 'Multiple of 3', 13, 14, 'Multiple of 3', 16, 17, 'Multiple of 3', 19, 20]\n",
    "```\n",
    "**ヒント：**\n",
    "\n",
    "* 数字の範囲を作るには `range()` 関数を使います。(`for i in range(1, 21):` のように書くと1から20までを扱えます)\n",
    "* 割り切れるかどうかの判定には、剰余演算子 `%` を使います。( `number % 3 == 0` で3で割り切れるかチェックできます)\n",
    "* 条件に応じて処理を分けるには `if` と `else` を使います。\n",
    "* リストに要素を追加するには `append()` メソッドを使います。（例: `result_list.append(item)`）\n",
    "* 最初に空のリストを作成しておく必要があります。（例: `result_list = []`）\n",
    "\n",
    "---"
   ]
  },
  {
   "cell_type": "markdown",
   "metadata": {
    "id": "y5B-53BNr3Ps"
   },
   "source": [
    "#### 1.2.3.3 演習問題3\n",
    "\n",
    "#### 【ステップ2：応用編】FizzBuzz問題を完成させよう！\n",
    "\n",
    "**課題内容：**\n",
    "\n",
    "ステップ1ができたら、いよいよFizzBuzz問題の本番です！\n",
    "\n",
    "1.  1から**100まで**の整数を順番にチェックします。\n",
    "2.  以下のルールに従って、対応する文字列または数字をリストに追加していきます。\n",
    "    * もし、その数字が**3でも5でも割り切れる**場合（つまり15の倍数）: 文字列 `\"FizzBuzz\"` を追加\n",
    "    * そうでなく、もし、その数字が**3で割り切れる**場合: 文字列 `\"Fizz\"` を追加\n",
    "    * そうでなく、もし、その数字が**5で割り切れる**場合: 文字列 `\"Buzz\"` を追加\n",
    "    * 上記のいずれでもない場合: **その数字自体**を追加\n",
    "3.  最後に、完成したリスト全体を `print()` で表示してください。\n",
    "\n",
    "**期待される出力イメージ（リストの最初の方）：**\n",
    "```\n",
    "[1, 2, 'Fizz', 4, 'Buzz', 'Fizz', 7, 8, 'Fizz', 'Buzz', 11, 'Fizz', 13, 14, 'FizzBuzz', 16, ...]\n",
    "```\n",
    "\n",
    "**ヒント：**\n",
    "\n",
    "* 複数の条件分岐を扱うには `if`, `elif`, `else` を使います。\n",
    "* **条件判定の順番が重要です！** 3でも5でも割り切れる(`number % 15 == 0` または `number % 3 == 0 and number % 5 == 0`) ケースを最初に判定しないと、\"Fizz\" や \"Buzz\" の条件に先に合致してしまい、\"FizzBuzz\" になりません。\n",
    "* ステップ1と同様に、空のリストの準備、`for`ループ、`range()`、剰余演算子`%`、`append()` を使います。\n",
    "---\n"
   ]
  },
  {
   "cell_type": "markdown",
   "metadata": {
    "id": "QfNO34kzr3hn"
   },
   "source": [
    "#### 1.2.3.4 演習問題4\n",
    "**チャレンジ：関数化してみよう！**\n",
    "\n",
    "* FizzBuzzの処理（リストを作成して返す部分）を `generate_fizzbuzz(max_num)` のような関数にまとめてみましょう。`max_num` を引数として受け取り、1から `max_num` までのFizzBuzz結果リストを返すようにします。\n",
    "* 作成した関数を `generate_fizzbuzz(100)` のように呼び出して、結果が正しく表示されるか確認してみましょう。"
   ]
  },
  {
   "cell_type": "code",
   "execution_count": null,
   "metadata": {
    "id": "FM-b5Xe4OYmS"
   },
   "outputs": [],
   "source": []
  }
 ],
 "metadata": {
  "colab": {
   "collapsed_sections": [
    "P2MptrRTqgOx",
    "8aNxwfeI0svj",
    "T2SjCghAqqQF",
    "a4IXmpt5rSPg",
    "nO1AJRZiiSS0",
    "qiut_jeTjcaq",
    "bD9XaXBNj54K",
    "CA82488pkuxK",
    "OAfMHGrDlHRN",
    "T9b4w9K-rmTe"
   ],
   "provenance": []
  },
  "kernelspec": {
   "display_name": "Python 3",
   "language": "python",
   "name": "python3"
  },
  "language_info": {
   "codemirror_mode": {
    "name": "ipython",
    "version": 3
   },
   "file_extension": ".py",
   "mimetype": "text/x-python",
   "name": "python",
   "nbconvert_exporter": "python",
   "pygments_lexer": "ipython3",
   "version": "3.7.17"
  }
 },
 "nbformat": 4,
 "nbformat_minor": 0
}
